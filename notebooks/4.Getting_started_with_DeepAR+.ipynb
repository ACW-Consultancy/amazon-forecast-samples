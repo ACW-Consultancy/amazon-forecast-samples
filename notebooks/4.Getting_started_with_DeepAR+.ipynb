{
 "cells": [
  {
   "cell_type": "markdown",
   "metadata": {},
   "source": [
    "# How to use Amazon Forecast\n",
    "\n",
    "Helps advanced users start with Amazon Forecast quickly. The demo notebook runs through a typical end to end usecase for a simple timeseries forecasting scenario. \n",
    "\n",
    "Prerequisites: \n",
    "[AWS CLI](https://docs.aws.amazon.com/cli/latest/userguide/installing.html) . \n",
    "\n",
    "For more informations about APIs, please check the [documentation](https://docs.aws.amazon.com/forecast/latest/dg/what-is-forecast.html)\n",
    "\n",
    "## Table Of Contents\n",
    "* [Setting up](#setup)\n",
    "* [Test Setup - Running first API](#hello)\n",
    "* [Forecasting Example with Amazon Forecast](#forecastingExample)\n",
    "\n",
    "**Read Every Cell FULLY before executing it**\n"
   ]
  },
  {
   "cell_type": "markdown",
   "metadata": {},
   "source": [
    "## Setup<a class=\"anchor\" id=\"setup\"></a>"
   ]
  },
  {
   "cell_type": "code",
   "execution_count": 1,
   "metadata": {},
   "outputs": [],
   "source": [
    "import boto3\n",
    "from time import sleep\n",
    "from util.fcst_utils import *\n",
    "import subprocess"
   ]
  },
  {
   "cell_type": "code",
   "execution_count": 2,
   "metadata": {},
   "outputs": [],
   "source": [
    "session = boto3.Session(region_name='us-west-2') \n",
    "\n",
    "forecast = session.client(service_name='forecast') \n",
    "forecastquery = session.client(service_name='forecastquery')"
   ]
  },
  {
   "cell_type": "code",
   "execution_count": 3,
   "metadata": {},
   "outputs": [
    {
     "data": {
      "text/plain": [
       "{'DatasetGroups': [{'DatasetGroupArn': 'arn:aws:forecast:us-west-2:126894715080:dataset-group/util_power_forecastdemo_dsg',\n",
       "   'DatasetGroupName': 'util_power_forecastdemo_dsg',\n",
       "   'CreationTime': datetime.datetime(2019, 11, 15, 17, 21, 3, 221000, tzinfo=tzlocal()),\n",
       "   'LastModificationTime': datetime.datetime(2019, 11, 15, 17, 21, 14, 606000, tzinfo=tzlocal())},\n",
       "  {'DatasetGroupArn': 'arn:aws:forecast:us-west-2:126894715080:dataset-group/testdatasetgroup',\n",
       "   'DatasetGroupName': 'testdatasetgroup',\n",
       "   'CreationTime': datetime.datetime(2019, 10, 25, 13, 57, 42, 177000, tzinfo=tzlocal()),\n",
       "   'LastModificationTime': datetime.datetime(2019, 10, 25, 14, 1, 30, 764000, tzinfo=tzlocal())},\n",
       "  {'DatasetGroupArn': 'arn:aws:forecast:us-west-2:126894715080:dataset-group/test',\n",
       "   'DatasetGroupName': 'test',\n",
       "   'CreationTime': datetime.datetime(2019, 10, 25, 13, 55, 49, 244000, tzinfo=tzlocal()),\n",
       "   'LastModificationTime': datetime.datetime(2019, 10, 25, 13, 56, 6, 605000, tzinfo=tzlocal())}],\n",
       " 'ResponseMetadata': {'RequestId': 'fcf35d0e-2c40-4f73-b257-34ec2384755a',\n",
       "  'HTTPStatusCode': 200,\n",
       "  'HTTPHeaders': {'content-type': 'application/x-amz-json-1.1',\n",
       "   'date': 'Mon, 18 Nov 2019 18:11:32 GMT',\n",
       "   'x-amzn-requestid': 'fcf35d0e-2c40-4f73-b257-34ec2384755a',\n",
       "   'content-length': '626',\n",
       "   'connection': 'keep-alive'},\n",
       "  'RetryAttempts': 0}}"
      ]
     },
     "execution_count": 3,
     "metadata": {},
     "output_type": "execute_result"
    }
   ],
   "source": [
    "forecast.list_dataset_groups()"
   ]
  },
  {
   "cell_type": "markdown",
   "metadata": {},
   "source": [
    "## Forecasting with Amazon Forecast<a class=\"anchor\" id=\"forecastingExample\"></a>\n",
    "### Preparing your Data"
   ]
  },
  {
   "cell_type": "markdown",
   "metadata": {},
   "source": [
    "In Amazon Forecast , a dataset is a collection of file(s) which contain data that is relevant for a forecasting task. A dataset must conform to a schema provided by Amazon Forecast. "
   ]
  },
  {
   "cell_type": "markdown",
   "metadata": {},
   "source": [
    "For this exercise, we use the individual household electric power consumption dataset. (Dua, D. and Karra Taniskidou, E. (2017). UCI Machine Learning Repository [http://archive.ics.uci.edu/ml]. Irvine, CA: University of California, School of Information and Computer Science.) We aggregate the usage data hourly. "
   ]
  },
  {
   "cell_type": "markdown",
   "metadata": {},
   "source": [
    "### Data Type"
   ]
  },
  {
   "cell_type": "markdown",
   "metadata": {},
   "source": [
    "Amazon forecast can import data from Amazon S3. We first explore the data locally to see the fields"
   ]
  },
  {
   "cell_type": "code",
   "execution_count": 10,
   "metadata": {},
   "outputs": [
    {
     "data": {
      "text/html": [
       "<div>\n",
       "<style scoped>\n",
       "    .dataframe tbody tr th:only-of-type {\n",
       "        vertical-align: middle;\n",
       "    }\n",
       "\n",
       "    .dataframe tbody tr th {\n",
       "        vertical-align: top;\n",
       "    }\n",
       "\n",
       "    .dataframe thead th {\n",
       "        text-align: right;\n",
       "    }\n",
       "</style>\n",
       "<table border=\"1\" class=\"dataframe\">\n",
       "  <thead>\n",
       "    <tr style=\"text-align: right;\">\n",
       "      <th></th>\n",
       "      <th>2014-01-01 01:00:00</th>\n",
       "      <th>38.34991708126038</th>\n",
       "      <th>client_12</th>\n",
       "    </tr>\n",
       "  </thead>\n",
       "  <tbody>\n",
       "    <tr>\n",
       "      <th>0</th>\n",
       "      <td>2014-01-01 02:00:00</td>\n",
       "      <td>33.5820895522388</td>\n",
       "      <td>client_12</td>\n",
       "    </tr>\n",
       "    <tr>\n",
       "      <th>1</th>\n",
       "      <td>2014-01-01 03:00:00</td>\n",
       "      <td>34.41127694859037</td>\n",
       "      <td>client_12</td>\n",
       "    </tr>\n",
       "    <tr>\n",
       "      <th>2</th>\n",
       "      <td>2014-01-01 04:00:00</td>\n",
       "      <td>39.800995024875625</td>\n",
       "      <td>client_12</td>\n",
       "    </tr>\n",
       "  </tbody>\n",
       "</table>\n",
       "</div>"
      ],
      "text/plain": [
       "   2014-01-01 01:00:00   38.34991708126038  client_12\n",
       "0  2014-01-01 02:00:00    33.5820895522388  client_12\n",
       "1  2014-01-01 03:00:00   34.41127694859037  client_12\n",
       "2  2014-01-01 04:00:00  39.800995024875625  client_12"
      ]
     },
     "execution_count": 10,
     "metadata": {},
     "output_type": "execute_result"
    }
   ],
   "source": [
    "import pandas as pd\n",
    "df = pd.read_csv(\"../data/item-demand-time.csv\", dtype = object)\n",
    "df.head(3)"
   ]
  },
  {
   "cell_type": "markdown",
   "metadata": {},
   "source": [
    "Now upload the data to S3. But before doing that, go into your AWS Console, select S3 for the service and create a new bucket inside the `Oregon` or `us-west-2` region. Use that bucket name convention of `amazon-forecast-unique-value-data`. The name must be unique, if you get an error, just adjust until your name works, then update the `bucketName` cell below."
   ]
  },
  {
   "cell_type": "code",
   "execution_count": 11,
   "metadata": {},
   "outputs": [],
   "source": [
    "s3 = session.client('s3')"
   ]
  },
  {
   "cell_type": "code",
   "execution_count": 12,
   "metadata": {},
   "outputs": [],
   "source": [
    "accountId = boto3.client('sts').get_caller_identity().get('Account')"
   ]
  },
  {
   "cell_type": "code",
   "execution_count": 15,
   "metadata": {},
   "outputs": [],
   "source": [
    "bucketName = \"amazon-forecast-data-{0}\".format(accountId) # Update the unique-value bit here.\n",
    "key=\"elec_data/item-demand-time.csv\""
   ]
  },
  {
   "cell_type": "code",
   "execution_count": 16,
   "metadata": {},
   "outputs": [],
   "source": [
    "s3.upload_file(Filename=\"../data/item-demand-time.csv\", Bucket=bucketName, Key=key)"
   ]
  },
  {
   "cell_type": "code",
   "execution_count": 17,
   "metadata": {},
   "outputs": [
    {
     "data": {
      "text/plain": [
       "'aws-seer-ruinon-test'"
      ]
     },
     "execution_count": 17,
     "metadata": {},
     "output_type": "execute_result"
    }
   ],
   "source": [
    "bucketName"
   ]
  },
  {
   "cell_type": "code",
   "execution_count": 18,
   "metadata": {},
   "outputs": [],
   "source": [
    "# One time setup only, uncomment the following command to create the role to provide to Amazon Forecast. \n",
    "# Save the generated role for all future calls to use for importing or exporting data. \n",
    "\n",
    "cmd = 'python ../setup_forecast_permissions.py '+bucketName\n",
    "p = subprocess.Popen(cmd.split(' '), stdout=subprocess.PIPE, stderr=subprocess.PIPE)"
   ]
  },
  {
   "cell_type": "code",
   "execution_count": 19,
   "metadata": {},
   "outputs": [],
   "source": [
    "roleArn = 'arn:aws:iam::%s:role/amazonforecast'%accountId"
   ]
  },
  {
   "cell_type": "markdown",
   "metadata": {},
   "source": [
    "### CreateDataset"
   ]
  },
  {
   "cell_type": "markdown",
   "metadata": {},
   "source": [
    "More details about `Domain` and dataset type can be found on the [documentation](https://docs.aws.amazon.com/forecast/latest/dg/howitworks-domains-ds-types.html) . For this example, we are using [CUSTOM](https://docs.aws.amazon.com/forecast/latest/dg/custom-domain.html) domain with 3 required attributes `timestamp`, `target_value` and `item_id`. Also for your project name, update it to reflect your name in a lowercase format."
   ]
  },
  {
   "cell_type": "code",
   "execution_count": 20,
   "metadata": {},
   "outputs": [],
   "source": [
    "DATASET_FREQUENCY = \"H\" \n",
    "TIMESTAMP_FORMAT = \"yyyy-MM-dd hh:mm:ss\""
   ]
  },
  {
   "cell_type": "code",
   "execution_count": 21,
   "metadata": {},
   "outputs": [],
   "source": [
    "project = 'electric_power_forecastdemo' # Replace this with a unique name here, make sure the entire name is < 30 characters.\n",
    "datasetName= project+'_ds'\n",
    "datasetGroupName= project +'_gp'\n",
    "s3DataPath = \"s3://\"+bucketName+\"/\"+key"
   ]
  },
  {
   "cell_type": "code",
   "execution_count": 22,
   "metadata": {},
   "outputs": [
    {
     "data": {
      "text/plain": [
       "'electric_power_forecastdemo_ds'"
      ]
     },
     "execution_count": 22,
     "metadata": {},
     "output_type": "execute_result"
    }
   ],
   "source": [
    "datasetName"
   ]
  },
  {
   "cell_type": "markdown",
   "metadata": {},
   "source": [
    "### Schema Definition \n",
    "### We are defining the attributes for the model "
   ]
  },
  {
   "cell_type": "code",
   "execution_count": 23,
   "metadata": {},
   "outputs": [],
   "source": [
    "# Specify the schema of your dataset here. Make sure the order of columns matches the raw data files.\n",
    "schema ={\n",
    "   \"Attributes\":[\n",
    "      {\n",
    "         \"AttributeName\":\"timestamp\",\n",
    "         \"AttributeType\":\"timestamp\"\n",
    "      },\n",
    "      {\n",
    "         \"AttributeName\":\"target_value\",\n",
    "         \"AttributeType\":\"float\"\n",
    "      },\n",
    "      {\n",
    "         \"AttributeName\":\"item_id\",\n",
    "         \"AttributeType\":\"string\"\n",
    "      }\n",
    "   ]\n",
    "}\n",
    "\n",
    "response=forecast.create_dataset(\n",
    "                    Domain=\"CUSTOM\",\n",
    "                    DatasetType='TARGET_TIME_SERIES',\n",
    "                    DatasetName=datasetName,\n",
    "                    DataFrequency=DATASET_FREQUENCY, \n",
    "                    Schema = schema\n",
    "                   )\n",
    "datasetArn = response['DatasetArn']"
   ]
  },
  {
   "cell_type": "code",
   "execution_count": 24,
   "metadata": {},
   "outputs": [
    {
     "data": {
      "text/plain": [
       "{'DatasetArn': 'arn:aws:forecast:us-west-2:126894715080:dataset/electric_power_forecastdemo_ds',\n",
       " 'DatasetName': 'electric_power_forecastdemo_ds',\n",
       " 'Domain': 'CUSTOM',\n",
       " 'DatasetType': 'TARGET_TIME_SERIES',\n",
       " 'DataFrequency': 'H',\n",
       " 'Schema': {'Attributes': [{'AttributeName': 'timestamp',\n",
       "    'AttributeType': 'timestamp'},\n",
       "   {'AttributeName': 'target_value', 'AttributeType': 'float'},\n",
       "   {'AttributeName': 'item_id', 'AttributeType': 'string'}]},\n",
       " 'EncryptionConfig': {},\n",
       " 'Status': 'ACTIVE',\n",
       " 'CreationTime': datetime.datetime(2019, 11, 18, 10, 14, 10, 961000, tzinfo=tzlocal()),\n",
       " 'LastModificationTime': datetime.datetime(2019, 11, 18, 10, 14, 10, 961000, tzinfo=tzlocal()),\n",
       " 'ResponseMetadata': {'RequestId': '165174e6-d3b7-41d3-98cc-206c977ebae6',\n",
       "  'HTTPStatusCode': 200,\n",
       "  'HTTPHeaders': {'content-type': 'application/x-amz-json-1.1',\n",
       "   'date': 'Mon, 18 Nov 2019 18:14:11 GMT',\n",
       "   'x-amzn-requestid': '165174e6-d3b7-41d3-98cc-206c977ebae6',\n",
       "   'content-length': '521',\n",
       "   'connection': 'keep-alive'},\n",
       "  'RetryAttempts': 0}}"
      ]
     },
     "execution_count": 24,
     "metadata": {},
     "output_type": "execute_result"
    }
   ],
   "source": [
    "forecast.describe_dataset(DatasetArn=datasetArn)"
   ]
  },
  {
   "cell_type": "code",
   "execution_count": 25,
   "metadata": {},
   "outputs": [],
   "source": [
    "create_dataset_group_response = forecast.create_dataset_group(DatasetGroupName=datasetGroupName,\n",
    "                                                              Domain=\"CUSTOM\",\n",
    "                                                              DatasetArns= [datasetArn]\n",
    "                                                             )\n",
    "datasetGroupArn = create_dataset_group_response['DatasetGroupArn']"
   ]
  },
  {
   "cell_type": "markdown",
   "metadata": {},
   "source": [
    "If you have an existing datasetgroup, you can update it using **update_dataset_group** to update dataset group.\n",
    "\n"
   ]
  },
  {
   "cell_type": "code",
   "execution_count": 26,
   "metadata": {},
   "outputs": [
    {
     "data": {
      "text/plain": [
       "{'DatasetGroupName': 'electric_power_forecastdemo_gp',\n",
       " 'DatasetGroupArn': 'arn:aws:forecast:us-west-2:126894715080:dataset-group/electric_power_forecastdemo_gp',\n",
       " 'DatasetArns': ['arn:aws:forecast:us-west-2:126894715080:dataset/electric_power_forecastdemo_ds'],\n",
       " 'Domain': 'CUSTOM',\n",
       " 'Status': 'ACTIVE',\n",
       " 'CreationTime': datetime.datetime(2019, 11, 18, 10, 14, 13, 987000, tzinfo=tzlocal()),\n",
       " 'LastModificationTime': datetime.datetime(2019, 11, 18, 10, 14, 13, 987000, tzinfo=tzlocal()),\n",
       " 'ResponseMetadata': {'RequestId': '0f5d2142-80f8-4333-84a8-9721cbf0f043',\n",
       "  'HTTPStatusCode': 200,\n",
       "  'HTTPHeaders': {'content-type': 'application/x-amz-json-1.1',\n",
       "   'date': 'Mon, 18 Nov 2019 18:14:15 GMT',\n",
       "   'x-amzn-requestid': '0f5d2142-80f8-4333-84a8-9721cbf0f043',\n",
       "   'content-length': '363',\n",
       "   'connection': 'keep-alive'},\n",
       "  'RetryAttempts': 0}}"
      ]
     },
     "execution_count": 26,
     "metadata": {},
     "output_type": "execute_result"
    }
   ],
   "source": [
    "forecast.describe_dataset_group(DatasetGroupArn=datasetGroupArn)"
   ]
  },
  {
   "cell_type": "markdown",
   "metadata": {},
   "source": [
    "### Create Data Import Job\n",
    "Brings the data into Amazon Forecast system ready to forecast from raw data. "
   ]
  },
  {
   "cell_type": "code",
   "execution_count": 27,
   "metadata": {},
   "outputs": [],
   "source": [
    "datasetImportJobName = 'EP_DSIMPORT_JOB_TARGET'\n",
    "ds_import_job_response=forecast.create_dataset_import_job(DatasetImportJobName=datasetImportJobName,\n",
    "                                                          DatasetArn=datasetArn,\n",
    "                                                          DataSource= {\n",
    "                                                              \"S3Config\" : {\n",
    "                                                                 \"Path\":s3DataPath,\n",
    "                                                                 \"RoleArn\": roleArn\n",
    "                                                              } \n",
    "                                                          },\n",
    "                                                          TimestampFormat=TIMESTAMP_FORMAT\n",
    "                                                         )"
   ]
  },
  {
   "cell_type": "code",
   "execution_count": 28,
   "metadata": {},
   "outputs": [
    {
     "name": "stdout",
     "output_type": "stream",
     "text": [
      "arn:aws:forecast:us-west-2:126894715080:dataset-import-job/electric_power_forecastdemo_ds/EP_DSIMPORT_JOB_TARGET\n"
     ]
    }
   ],
   "source": [
    "ds_import_job_arn=ds_import_job_response['DatasetImportJobArn']\n",
    "print(ds_import_job_arn)"
   ]
  },
  {
   "cell_type": "markdown",
   "metadata": {},
   "source": [
    "Check the status of dataset, when the status change from **CREATE_IN_PROGRESS** to **ACTIVE**, we can continue to next steps. Depending on the data size. It can take 10 mins to be **ACTIVE**. This process will take 5 to 10 minutes."
   ]
  },
  {
   "cell_type": "code",
   "execution_count": 29,
   "metadata": {},
   "outputs": [
    {
     "name": "stdout",
     "output_type": "stream",
     "text": [
      "CREATE_PENDING\n",
      "CREATE_IN_PROGRESS\n",
      "CREATE_IN_PROGRESS\n",
      "CREATE_IN_PROGRESS\n",
      "CREATE_IN_PROGRESS\n",
      "CREATE_IN_PROGRESS\n",
      "CREATE_IN_PROGRESS\n",
      "CREATE_IN_PROGRESS\n",
      "ACTIVE\n"
     ]
    }
   ],
   "source": [
    "while True:\n",
    "    dataImportStatus = forecast.describe_dataset_import_job(DatasetImportJobArn=ds_import_job_arn)['Status']\n",
    "    print(dataImportStatus)\n",
    "    if dataImportStatus != 'ACTIVE' and dataImportStatus != 'CREATE_FAILED':\n",
    "        sleep(30)\n",
    "    else:\n",
    "        break"
   ]
  },
  {
   "cell_type": "code",
   "execution_count": 30,
   "metadata": {},
   "outputs": [
    {
     "data": {
      "text/plain": [
       "{'DatasetImportJobName': 'EP_DSIMPORT_JOB_TARGET',\n",
       " 'DatasetImportJobArn': 'arn:aws:forecast:us-west-2:126894715080:dataset-import-job/electric_power_forecastdemo_ds/EP_DSIMPORT_JOB_TARGET',\n",
       " 'DatasetArn': 'arn:aws:forecast:us-west-2:126894715080:dataset/electric_power_forecastdemo_ds',\n",
       " 'TimestampFormat': 'yyyy-MM-dd hh:mm:ss',\n",
       " 'DataSource': {'S3Config': {'Path': 's3://aws-seer-ruinon-test/elec_data/item-demand-time.csv',\n",
       "   'RoleArn': 'arn:aws:iam::126894715080:role/ForecastRole'}},\n",
       " 'FieldStatistics': {'item_id': {'Count': 23973,\n",
       "   'CountDistinct': 3,\n",
       "   'CountNull': 0},\n",
       "  'target_value': {'Count': 23973,\n",
       "   'CountDistinct': 4818,\n",
       "   'CountNull': 0,\n",
       "   'CountNan': 0,\n",
       "   'Min': '0.0',\n",
       "   'Max': '212.27197346600326',\n",
       "   'Avg': 50.447323170680725,\n",
       "   'Stddev': 38.72169238224658},\n",
       "  'timestamp': {'Count': 23973,\n",
       "   'CountDistinct': 7991,\n",
       "   'CountNull': 0,\n",
       "   'Min': '2014-01-01T01:00:00Z',\n",
       "   'Max': '2014-11-29T23:00:00Z'}},\n",
       " 'DataSize': 0.0010688817128539085,\n",
       " 'Status': 'ACTIVE',\n",
       " 'CreationTime': datetime.datetime(2019, 11, 18, 10, 14, 16, 735000, tzinfo=tzlocal()),\n",
       " 'LastModificationTime': datetime.datetime(2019, 11, 18, 10, 17, 55, 664000, tzinfo=tzlocal()),\n",
       " 'ResponseMetadata': {'RequestId': 'ef7e2983-36d7-49dd-ba4b-f97b38e2c681',\n",
       "  'HTTPStatusCode': 200,\n",
       "  'HTTPHeaders': {'content-type': 'application/x-amz-json-1.1',\n",
       "   'date': 'Mon, 18 Nov 2019 18:18:34 GMT',\n",
       "   'x-amzn-requestid': 'ef7e2983-36d7-49dd-ba4b-f97b38e2c681',\n",
       "   'content-length': '962',\n",
       "   'connection': 'keep-alive'},\n",
       "  'RetryAttempts': 0}}"
      ]
     },
     "execution_count": 30,
     "metadata": {},
     "output_type": "execute_result"
    }
   ],
   "source": [
    "forecast.describe_dataset_import_job(DatasetImportJobArn=ds_import_job_arn)"
   ]
  },
  {
   "cell_type": "markdown",
   "metadata": {},
   "source": [
    "### Create Predictor with customer forecast horizon"
   ]
  },
  {
   "cell_type": "markdown",
   "metadata": {},
   "source": [
    "Forecast horizon is the number of number of time points to predicted in the future. For weekly data, a value of 12 means 12 weeks. Our example is hourly data, we try forecast the next day, so we can set to 24."
   ]
  },
  {
   "cell_type": "code",
   "execution_count": 31,
   "metadata": {},
   "outputs": [],
   "source": [
    "predictorName= project+'_deepAr_algo'"
   ]
  },
  {
   "cell_type": "code",
   "execution_count": 32,
   "metadata": {},
   "outputs": [],
   "source": [
    "forecastHorizon = 24"
   ]
  },
  {
   "cell_type": "code",
   "execution_count": 33,
   "metadata": {},
   "outputs": [],
   "source": [
    "algorithmArn = 'arn:aws:forecast:::algorithm/Deep_AR_Plus'"
   ]
  },
  {
   "cell_type": "code",
   "execution_count": 34,
   "metadata": {},
   "outputs": [],
   "source": [
    "create_predictor_response=forecast.create_predictor(PredictorName=predictorName, \n",
    "                                                  AlgorithmArn=algorithmArn,\n",
    "                                                  ForecastHorizon=forecastHorizon,\n",
    "                                                  PerformAutoML= False,\n",
    "                                                  PerformHPO=False,\n",
    "                                                  EvaluationParameters= {\"NumberOfBacktestWindows\": 1, \n",
    "                                                                         \"BackTestWindowOffset\": 24}, \n",
    "                                                  InputDataConfig= {\"DatasetGroupArn\": datasetGroupArn},\n",
    "                                                  FeaturizationConfig= {\"ForecastFrequency\": \"H\", \n",
    "                                                                        \"Featurizations\": \n",
    "                                                                        [\n",
    "                                                                          {\"AttributeName\": \"target_value\", \n",
    "                                                                           \"FeaturizationPipeline\": \n",
    "                                                                            [\n",
    "                                                                              {\"FeaturizationMethodName\": \"filling\", \n",
    "                                                                               \"FeaturizationMethodParameters\": \n",
    "                                                                                {\"frontfill\": \"none\", \n",
    "                                                                                 \"middlefill\": \"zero\", \n",
    "                                                                                 \"backfill\": \"zero\"}\n",
    "                                                                              }\n",
    "                                                                            ]\n",
    "                                                                          }\n",
    "                                                                        ]\n",
    "                                                                       }\n",
    "                                                 )"
   ]
  },
  {
   "cell_type": "code",
   "execution_count": 35,
   "metadata": {},
   "outputs": [],
   "source": [
    "predictorArn=create_predictor_response['PredictorArn']"
   ]
  },
  {
   "cell_type": "markdown",
   "metadata": {},
   "source": [
    "Check the status of the predictor. When the status change from **CREATE_IN_PROGRESS** to **ACTIVE**, we can continue to next steps. Depending on data size, model selection and hyper parameters，it can take 10 mins to more than one hour to be **ACTIVE**."
   ]
  },
  {
   "cell_type": "code",
   "execution_count": 36,
   "metadata": {},
   "outputs": [
    {
     "name": "stdout",
     "output_type": "stream",
     "text": [
      "CREATE_PENDING\n",
      "CREATE_IN_PROGRESS\n",
      "CREATE_IN_PROGRESS\n",
      "CREATE_IN_PROGRESS\n",
      "CREATE_IN_PROGRESS\n",
      "CREATE_IN_PROGRESS\n",
      "CREATE_IN_PROGRESS\n",
      "CREATE_IN_PROGRESS\n",
      "CREATE_IN_PROGRESS\n",
      "CREATE_IN_PROGRESS\n",
      "CREATE_IN_PROGRESS\n",
      "CREATE_IN_PROGRESS\n",
      "CREATE_IN_PROGRESS\n",
      "CREATE_IN_PROGRESS\n",
      "CREATE_IN_PROGRESS\n",
      "CREATE_IN_PROGRESS\n",
      "CREATE_IN_PROGRESS\n",
      "CREATE_IN_PROGRESS\n",
      "CREATE_IN_PROGRESS\n",
      "CREATE_IN_PROGRESS\n",
      "CREATE_IN_PROGRESS\n",
      "CREATE_IN_PROGRESS\n",
      "CREATE_IN_PROGRESS\n",
      "CREATE_IN_PROGRESS\n",
      "CREATE_IN_PROGRESS\n",
      "CREATE_IN_PROGRESS\n",
      "CREATE_IN_PROGRESS\n",
      "CREATE_IN_PROGRESS\n",
      "CREATE_IN_PROGRESS\n",
      "CREATE_IN_PROGRESS\n",
      "CREATE_IN_PROGRESS\n",
      "CREATE_IN_PROGRESS\n",
      "CREATE_IN_PROGRESS\n",
      "CREATE_IN_PROGRESS\n",
      "CREATE_IN_PROGRESS\n",
      "CREATE_IN_PROGRESS\n",
      "CREATE_IN_PROGRESS\n",
      "CREATE_IN_PROGRESS\n",
      "CREATE_IN_PROGRESS\n",
      "CREATE_IN_PROGRESS\n",
      "CREATE_IN_PROGRESS\n",
      "CREATE_IN_PROGRESS\n",
      "CREATE_IN_PROGRESS\n",
      "CREATE_IN_PROGRESS\n",
      "CREATE_IN_PROGRESS\n",
      "CREATE_IN_PROGRESS\n",
      "CREATE_IN_PROGRESS\n",
      "CREATE_IN_PROGRESS\n",
      "CREATE_IN_PROGRESS\n",
      "CREATE_IN_PROGRESS\n",
      "CREATE_IN_PROGRESS\n",
      "CREATE_IN_PROGRESS\n",
      "CREATE_IN_PROGRESS\n",
      "ACTIVE\n"
     ]
    }
   ],
   "source": [
    "while True:\n",
    "    predictorStatus = forecast.describe_predictor(PredictorArn=predictorArn)['Status']\n",
    "    print(predictorStatus)\n",
    "    if predictorStatus != 'ACTIVE' and predictorStatus != 'CREATE_FAILED':\n",
    "        sleep(30)\n",
    "    else:\n",
    "        break"
   ]
  },
  {
   "cell_type": "markdown",
   "metadata": {},
   "source": [
    "### Get Error Metrics"
   ]
  },
  {
   "cell_type": "code",
   "execution_count": 37,
   "metadata": {},
   "outputs": [
    {
     "data": {
      "text/plain": [
       "{'PredictorEvaluationResults': [{'AlgorithmArn': 'arn:aws:forecast:::algorithm/Deep_AR_Plus',\n",
       "   'TestWindows': [{'EvaluationType': 'SUMMARY',\n",
       "     'Metrics': {'RMSE': 21.858090454389654,\n",
       "      'WeightedQuantileLosses': [{'Quantile': 0.9,\n",
       "        'LossValue': 0.0971399005978474},\n",
       "       {'Quantile': 0.5, 'LossValue': 0.285458860298834},\n",
       "       {'Quantile': 0.1, 'LossValue': 0.2672397301542571}]}},\n",
       "    {'TestWindowStart': datetime.datetime(2014, 11, 28, 16, 0, tzinfo=tzlocal()),\n",
       "     'TestWindowEnd': datetime.datetime(2014, 11, 29, 16, 0, tzinfo=tzlocal()),\n",
       "     'ItemCount': 3,\n",
       "     'EvaluationType': 'COMPUTED',\n",
       "     'Metrics': {'RMSE': 21.858090454389654,\n",
       "      'WeightedQuantileLosses': [{'Quantile': 0.9,\n",
       "        'LossValue': 0.0971399005978474},\n",
       "       {'Quantile': 0.5, 'LossValue': 0.285458860298834},\n",
       "       {'Quantile': 0.1, 'LossValue': 0.2672397301542571}]}}]}],\n",
       " 'ResponseMetadata': {'RequestId': 'b3e5309f-fc35-4fb2-b731-75f5559ad0c1',\n",
       "  'HTTPStatusCode': 200,\n",
       "  'HTTPHeaders': {'content-type': 'application/x-amz-json-1.1',\n",
       "   'date': 'Mon, 18 Nov 2019 18:45:14 GMT',\n",
       "   'x-amzn-requestid': 'b3e5309f-fc35-4fb2-b731-75f5559ad0c1',\n",
       "   'content-length': '656',\n",
       "   'connection': 'keep-alive'},\n",
       "  'RetryAttempts': 0}}"
      ]
     },
     "execution_count": 37,
     "metadata": {},
     "output_type": "execute_result"
    }
   ],
   "source": [
    "forecast.get_accuracy_metrics(PredictorArn=predictorArn)"
   ]
  },
  {
   "cell_type": "markdown",
   "metadata": {},
   "source": [
    "### Create Forecast"
   ]
  },
  {
   "cell_type": "markdown",
   "metadata": {},
   "source": [
    "Now create a forecast using the model that was trained."
   ]
  },
  {
   "cell_type": "code",
   "execution_count": 38,
   "metadata": {},
   "outputs": [],
   "source": [
    "forecastName= project+'_deepAR_algo_forecast'"
   ]
  },
  {
   "cell_type": "code",
   "execution_count": 39,
   "metadata": {},
   "outputs": [],
   "source": [
    "create_forecast_response=forecast.create_forecast(ForecastName=forecastName,\n",
    "                                                  PredictorArn=predictorArn)\n",
    "forecastArn = create_forecast_response['ForecastArn']"
   ]
  },
  {
   "cell_type": "markdown",
   "metadata": {},
   "source": [
    "Check the status of the forecast process, when the status change from **CREATE_IN_PROGRESS** to **ACTIVE**, we can continue to next steps. Depending on data size, model selection and hyper parameters，it can take 10 mins to more than one hour to be **ACTIVE**."
   ]
  },
  {
   "cell_type": "code",
   "execution_count": 40,
   "metadata": {},
   "outputs": [
    {
     "name": "stdout",
     "output_type": "stream",
     "text": [
      "CREATE_PENDING\n",
      "CREATE_IN_PROGRESS\n",
      "CREATE_IN_PROGRESS\n",
      "CREATE_IN_PROGRESS\n",
      "CREATE_IN_PROGRESS\n",
      "CREATE_IN_PROGRESS\n",
      "CREATE_IN_PROGRESS\n",
      "CREATE_IN_PROGRESS\n",
      "CREATE_IN_PROGRESS\n",
      "CREATE_IN_PROGRESS\n",
      "CREATE_IN_PROGRESS\n",
      "CREATE_IN_PROGRESS\n",
      "CREATE_IN_PROGRESS\n",
      "CREATE_IN_PROGRESS\n",
      "CREATE_IN_PROGRESS\n",
      "CREATE_IN_PROGRESS\n",
      "CREATE_IN_PROGRESS\n",
      "CREATE_IN_PROGRESS\n",
      "CREATE_IN_PROGRESS\n",
      "CREATE_IN_PROGRESS\n",
      "CREATE_IN_PROGRESS\n",
      "CREATE_IN_PROGRESS\n",
      "CREATE_IN_PROGRESS\n",
      "CREATE_IN_PROGRESS\n",
      "CREATE_IN_PROGRESS\n",
      "CREATE_IN_PROGRESS\n",
      "CREATE_IN_PROGRESS\n",
      "CREATE_IN_PROGRESS\n",
      "CREATE_IN_PROGRESS\n",
      "CREATE_IN_PROGRESS\n",
      "CREATE_IN_PROGRESS\n",
      "CREATE_IN_PROGRESS\n",
      "CREATE_IN_PROGRESS\n",
      "CREATE_IN_PROGRESS\n",
      "CREATE_IN_PROGRESS\n",
      "CREATE_IN_PROGRESS\n",
      "CREATE_IN_PROGRESS\n",
      "CREATE_IN_PROGRESS\n",
      "CREATE_IN_PROGRESS\n",
      "CREATE_IN_PROGRESS\n",
      "CREATE_IN_PROGRESS\n",
      "CREATE_IN_PROGRESS\n",
      "CREATE_IN_PROGRESS\n",
      "CREATE_IN_PROGRESS\n",
      "CREATE_IN_PROGRESS\n",
      "CREATE_IN_PROGRESS\n",
      "CREATE_IN_PROGRESS\n",
      "CREATE_IN_PROGRESS\n",
      "CREATE_IN_PROGRESS\n",
      "CREATE_IN_PROGRESS\n",
      "CREATE_IN_PROGRESS\n",
      "CREATE_IN_PROGRESS\n",
      "CREATE_IN_PROGRESS\n",
      "CREATE_IN_PROGRESS\n",
      "ACTIVE\n"
     ]
    }
   ],
   "source": [
    "while True:\n",
    "    forecastStatus = forecast.describe_forecast(ForecastArn=forecastArn)['Status']\n",
    "    print(forecastStatus)\n",
    "    if forecastStatus != 'ACTIVE' and forecastStatus != 'CREATE_FAILED':\n",
    "        sleep(30)\n",
    "    else:\n",
    "        break"
   ]
  },
  {
   "cell_type": "markdown",
   "metadata": {},
   "source": [
    "### Get Forecast"
   ]
  },
  {
   "cell_type": "markdown",
   "metadata": {},
   "source": [
    "Once created, the forecast results are ready and you view them. "
   ]
  },
  {
   "cell_type": "code",
   "execution_count": 41,
   "metadata": {},
   "outputs": [
    {
     "name": "stdout",
     "output_type": "stream",
     "text": [
      "arn:aws:forecast:us-west-2:126894715080:forecast/electric_power_forecastdemo_deepAR_algo_forecast\n",
      "{'Forecast': {'Predictions': {'p10': [{'Timestamp': '2014-11-30T00:00:00', 'Value': 38.68849563598633}, {'Timestamp': '2014-11-30T01:00:00', 'Value': 37.88291549682617}, {'Timestamp': '2014-11-30T02:00:00', 'Value': 35.081077575683594}, {'Timestamp': '2014-11-30T03:00:00', 'Value': 32.3565673828125}, {'Timestamp': '2014-11-30T04:00:00', 'Value': 36.040401458740234}, {'Timestamp': '2014-11-30T05:00:00', 'Value': 35.27180099487305}, {'Timestamp': '2014-11-30T06:00:00', 'Value': 31.788686752319336}, {'Timestamp': '2014-11-30T07:00:00', 'Value': 31.290996551513672}, {'Timestamp': '2014-11-30T08:00:00', 'Value': 24.095046997070312}, {'Timestamp': '2014-11-30T09:00:00', 'Value': 25.74273681640625}, {'Timestamp': '2014-11-30T10:00:00', 'Value': 22.67711639404297}, {'Timestamp': '2014-11-30T11:00:00', 'Value': 19.87714385986328}, {'Timestamp': '2014-11-30T12:00:00', 'Value': 25.436525344848633}, {'Timestamp': '2014-11-30T13:00:00', 'Value': 26.414670944213867}, {'Timestamp': '2014-11-30T14:00:00', 'Value': 27.392423629760742}, {'Timestamp': '2014-11-30T15:00:00', 'Value': 25.659048080444336}, {'Timestamp': '2014-11-30T16:00:00', 'Value': 27.860931396484375}, {'Timestamp': '2014-11-30T17:00:00', 'Value': 29.905715942382812}, {'Timestamp': '2014-11-30T18:00:00', 'Value': 31.325328826904297}, {'Timestamp': '2014-11-30T19:00:00', 'Value': 34.3753662109375}, {'Timestamp': '2014-11-30T20:00:00', 'Value': 34.18736267089844}, {'Timestamp': '2014-11-30T21:00:00', 'Value': 36.5309944152832}, {'Timestamp': '2014-11-30T22:00:00', 'Value': 34.34436798095703}, {'Timestamp': '2014-11-30T23:00:00', 'Value': 29.8872127532959}], 'p50': [{'Timestamp': '2014-11-30T00:00:00', 'Value': 43.578826904296875}, {'Timestamp': '2014-11-30T01:00:00', 'Value': 42.35208511352539}, {'Timestamp': '2014-11-30T02:00:00', 'Value': 38.86092758178711}, {'Timestamp': '2014-11-30T03:00:00', 'Value': 37.24882507324219}, {'Timestamp': '2014-11-30T04:00:00', 'Value': 40.04834747314453}, {'Timestamp': '2014-11-30T05:00:00', 'Value': 40.496124267578125}, {'Timestamp': '2014-11-30T06:00:00', 'Value': 35.533607482910156}, {'Timestamp': '2014-11-30T07:00:00', 'Value': 35.33052444458008}, {'Timestamp': '2014-11-30T08:00:00', 'Value': 30.842344284057617}, {'Timestamp': '2014-11-30T09:00:00', 'Value': 35.056060791015625}, {'Timestamp': '2014-11-30T10:00:00', 'Value': 31.360023498535156}, {'Timestamp': '2014-11-30T11:00:00', 'Value': 28.817058563232422}, {'Timestamp': '2014-11-30T12:00:00', 'Value': 32.03908157348633}, {'Timestamp': '2014-11-30T13:00:00', 'Value': 33.639305114746094}, {'Timestamp': '2014-11-30T14:00:00', 'Value': 32.39446258544922}, {'Timestamp': '2014-11-30T15:00:00', 'Value': 31.505746841430664}, {'Timestamp': '2014-11-30T16:00:00', 'Value': 35.234336853027344}, {'Timestamp': '2014-11-30T17:00:00', 'Value': 36.361228942871094}, {'Timestamp': '2014-11-30T18:00:00', 'Value': 37.227073669433594}, {'Timestamp': '2014-11-30T19:00:00', 'Value': 40.20964813232422}, {'Timestamp': '2014-11-30T20:00:00', 'Value': 41.19420623779297}, {'Timestamp': '2014-11-30T21:00:00', 'Value': 42.534996032714844}, {'Timestamp': '2014-11-30T22:00:00', 'Value': 38.96409606933594}, {'Timestamp': '2014-11-30T23:00:00', 'Value': 35.85465621948242}], 'p90': [{'Timestamp': '2014-11-30T00:00:00', 'Value': 47.56890106201172}, {'Timestamp': '2014-11-30T01:00:00', 'Value': 46.53350830078125}, {'Timestamp': '2014-11-30T02:00:00', 'Value': 44.135833740234375}, {'Timestamp': '2014-11-30T03:00:00', 'Value': 41.997501373291016}, {'Timestamp': '2014-11-30T04:00:00', 'Value': 43.09872817993164}, {'Timestamp': '2014-11-30T05:00:00', 'Value': 44.53553771972656}, {'Timestamp': '2014-11-30T06:00:00', 'Value': 40.05882263183594}, {'Timestamp': '2014-11-30T07:00:00', 'Value': 40.44845962524414}, {'Timestamp': '2014-11-30T08:00:00', 'Value': 38.39378356933594}, {'Timestamp': '2014-11-30T09:00:00', 'Value': 43.18361282348633}, {'Timestamp': '2014-11-30T10:00:00', 'Value': 39.12837600708008}, {'Timestamp': '2014-11-30T11:00:00', 'Value': 36.4815788269043}, {'Timestamp': '2014-11-30T12:00:00', 'Value': 38.91632843017578}, {'Timestamp': '2014-11-30T13:00:00', 'Value': 40.50384521484375}, {'Timestamp': '2014-11-30T14:00:00', 'Value': 39.15053176879883}, {'Timestamp': '2014-11-30T15:00:00', 'Value': 38.61720657348633}, {'Timestamp': '2014-11-30T16:00:00', 'Value': 41.763973236083984}, {'Timestamp': '2014-11-30T17:00:00', 'Value': 44.11145782470703}, {'Timestamp': '2014-11-30T18:00:00', 'Value': 43.138118743896484}, {'Timestamp': '2014-11-30T19:00:00', 'Value': 46.91587829589844}, {'Timestamp': '2014-11-30T20:00:00', 'Value': 46.871788024902344}, {'Timestamp': '2014-11-30T21:00:00', 'Value': 46.54719161987305}, {'Timestamp': '2014-11-30T22:00:00', 'Value': 43.62692642211914}, {'Timestamp': '2014-11-30T23:00:00', 'Value': 42.196739196777344}]}}, 'ResponseMetadata': {'RequestId': 'eeb4107e-0476-4317-a956-c62ecc9cafce', 'HTTPStatusCode': 200, 'HTTPHeaders': {'content-type': 'application/x-amz-json-1.1', 'date': 'Mon, 18 Nov 2019 19:12:26 GMT', 'x-amzn-requestid': 'eeb4107e-0476-4317-a956-c62ecc9cafce', 'content-length': '4544', 'connection': 'keep-alive'}, 'RetryAttempts': 0}}\n"
     ]
    }
   ],
   "source": [
    "print(forecastArn)\n",
    "forecastResponse = forecastquery.query_forecast(\n",
    "    ForecastArn=forecastArn,\n",
    "    Filters={\"item_id\":\"client_12\"}\n",
    ")\n",
    "print(forecastResponse)"
   ]
  },
  {
   "cell_type": "markdown",
   "metadata": {},
   "source": [
    "# Export Forecast"
   ]
  },
  {
   "cell_type": "markdown",
   "metadata": {},
   "source": [
    "You can export forecast to s3 bucket. To do so an role with s3 put access is needed, but this has already been created."
   ]
  },
  {
   "cell_type": "code",
   "execution_count": 42,
   "metadata": {},
   "outputs": [],
   "source": [
    "forecastExportName= project+'_deepAR_algo_forecast_export'"
   ]
  },
  {
   "cell_type": "code",
   "execution_count": 43,
   "metadata": {},
   "outputs": [],
   "source": [
    "outputPath=\"s3://\"+bucketName+\"/output\""
   ]
  },
  {
   "cell_type": "code",
   "execution_count": 44,
   "metadata": {},
   "outputs": [],
   "source": [
    "forecast_export_response = forecast.create_forecast_export_job(\n",
    "                                                                ForecastExportJobName = forecastExportName,\n",
    "                                                                ForecastArn=forecastArn, \n",
    "                                                                Destination = {\n",
    "                                                                   \"S3Config\" : {\n",
    "                                                                       \"Path\":outputPath,\n",
    "                                                                       \"RoleArn\": roleArn\n",
    "                                                                   } \n",
    "                                                                }\n",
    "                                                              )"
   ]
  },
  {
   "cell_type": "code",
   "execution_count": 45,
   "metadata": {},
   "outputs": [
    {
     "name": "stdout",
     "output_type": "stream",
     "text": [
      "arn:aws:forecast:us-west-2:126894715080:forecast-export-job/electric_power_forecastdemo_deepAR_algo_forecast/electric_power_forecastdemo_deepAR_algo_forecast_export\n"
     ]
    }
   ],
   "source": [
    "forecastExportJobArn = forecast_export_response['ForecastExportJobArn']\n",
    "print(forecastExportJobArn)"
   ]
  },
  {
   "cell_type": "code",
   "execution_count": 46,
   "metadata": {},
   "outputs": [
    {
     "name": "stdout",
     "output_type": "stream",
     "text": [
      "CREATE_PENDING\n",
      "CREATE_IN_PROGRESS\n",
      "CREATE_IN_PROGRESS\n",
      "CREATE_IN_PROGRESS\n",
      "ACTIVE\n"
     ]
    }
   ],
   "source": [
    "while True:\n",
    "    forecastExportStatus = forecast.describe_forecast_export_job(ForecastExportJobArn=forecastExportJobArn)['Status']\n",
    "    print(forecastExportStatus)\n",
    "    if forecastExportStatus != 'ACTIVE' and forecastExportStatus != 'CREATE_FAILED':\n",
    "        sleep(30)\n",
    "    else:\n",
    "        break"
   ]
  },
  {
   "cell_type": "markdown",
   "metadata": {},
   "source": [
    "Check s3 bucket for results"
   ]
  },
  {
   "cell_type": "code",
   "execution_count": 47,
   "metadata": {},
   "outputs": [
    {
     "data": {
      "text/plain": [
       "{'ResponseMetadata': {'RequestId': '66451F38319A345C',\n",
       "  'HostId': 'QT8HR4HXJMY3JrWWL3LBxTOoit7pvK0HI9g3NwMm8iPD1jrbcggXOU19qs9Ihu1oBZ+8vfwGShE=',\n",
       "  'HTTPStatusCode': 200,\n",
       "  'HTTPHeaders': {'x-amz-id-2': 'QT8HR4HXJMY3JrWWL3LBxTOoit7pvK0HI9g3NwMm8iPD1jrbcggXOU19qs9Ihu1oBZ+8vfwGShE=',\n",
       "   'x-amz-request-id': '66451F38319A345C',\n",
       "   'date': 'Mon, 18 Nov 2019 19:14:40 GMT',\n",
       "   'x-amz-bucket-region': 'us-west-2',\n",
       "   'content-type': 'application/xml',\n",
       "   'transfer-encoding': 'chunked',\n",
       "   'server': 'AmazonS3'},\n",
       "  'RetryAttempts': 0},\n",
       " 'IsTruncated': False,\n",
       " 'Marker': '',\n",
       " 'Contents': [{'Key': 'output/_CHECK',\n",
       "   'LastModified': datetime.datetime(2019, 11, 18, 19, 12, 35, tzinfo=tzutc()),\n",
       "   'ETag': '\"d41d8cd98f00b204e9800998ecf8427e\"',\n",
       "   'Size': 0,\n",
       "   'StorageClass': 'STANDARD',\n",
       "   'Owner': {'DisplayName': 'ruinon+scm',\n",
       "    'ID': '865591f95fcf087ee758043856710c43539f97ab11d2631f00f329b72e88ce85'}},\n",
       "  {'Key': 'output/_SUCCESS',\n",
       "   'LastModified': datetime.datetime(2019, 11, 18, 19, 13, 49, tzinfo=tzutc()),\n",
       "   'ETag': '\"d41d8cd98f00b204e9800998ecf8427e\"',\n",
       "   'Size': 0,\n",
       "   'StorageClass': 'STANDARD',\n",
       "   'Owner': {'DisplayName': 'ruinon+scm',\n",
       "    'ID': '865591f95fcf087ee758043856710c43539f97ab11d2631f00f329b72e88ce85'}},\n",
       "  {'Key': 'output/electric_power_forecastdemo_deepAR_algo_forecast_export_2019-11-18T17-29-49Z_part0.csv',\n",
       "   'LastModified': datetime.datetime(2019, 11, 18, 17, 29, 53, tzinfo=tzutc()),\n",
       "   'ETag': '\"a92694df7356219e7cc7e3a8adccd5f0\"',\n",
       "   'Size': 5284,\n",
       "   'StorageClass': 'STANDARD',\n",
       "   'Owner': {'DisplayName': 'ruinon+scm',\n",
       "    'ID': '865591f95fcf087ee758043856710c43539f97ab11d2631f00f329b72e88ce85'}},\n",
       "  {'Key': 'output/electric_power_forecastdemo_deepAR_algo_forecast_export_2019-11-18T19-13-46Z_part0.csv',\n",
       "   'LastModified': datetime.datetime(2019, 11, 18, 19, 13, 50, tzinfo=tzutc()),\n",
       "   'ETag': '\"5c4ffc67e07e041702bd5099df23c01e\"',\n",
       "   'Size': 5288,\n",
       "   'StorageClass': 'STANDARD',\n",
       "   'Owner': {'DisplayName': 'ruinon+scm',\n",
       "    'ID': '865591f95fcf087ee758043856710c43539f97ab11d2631f00f329b72e88ce85'}}],\n",
       " 'Name': 'aws-seer-ruinon-test',\n",
       " 'Prefix': 'output',\n",
       " 'MaxKeys': 1000,\n",
       " 'EncodingType': 'url'}"
      ]
     },
     "execution_count": 47,
     "metadata": {},
     "output_type": "execute_result"
    }
   ],
   "source": [
    "s3.list_objects(Bucket=bucketName,Prefix=\"output\")"
   ]
  },
  {
   "cell_type": "markdown",
   "metadata": {},
   "source": [
    "# Cleanup\n",
    "\n",
    "While Forecast is in preview there are no charges for using it, but to future proof this work below are the instructions to cleanup your work space."
   ]
  },
  {
   "cell_type": "code",
   "execution_count": 48,
   "metadata": {},
   "outputs": [],
   "source": [
    "# Delete forecast export for algorithms\n",
    "wait_till_delete(lambda: forecast.delete_forecast_export_job(ForecastExportJobArn = forecastExportJobArn))"
   ]
  },
  {
   "cell_type": "code",
   "execution_count": 49,
   "metadata": {},
   "outputs": [],
   "source": [
    "# Delete forecast\n",
    "wait_till_delete(lambda: forecast.delete_forecast(ForecastArn = forecastArn))"
   ]
  },
  {
   "cell_type": "code",
   "execution_count": 50,
   "metadata": {},
   "outputs": [],
   "source": [
    "# Delete predictor\n",
    "wait_till_delete(lambda: forecast.delete_predictor(PredictorArn = predictorArn))"
   ]
  },
  {
   "cell_type": "code",
   "execution_count": 51,
   "metadata": {},
   "outputs": [],
   "source": [
    "# Delete Import\n",
    "wait_till_delete(lambda: forecast.delete_dataset_import_job(DatasetImportJobArn=ds_import_job_arn))"
   ]
  },
  {
   "cell_type": "code",
   "execution_count": 52,
   "metadata": {},
   "outputs": [],
   "source": [
    "# Delete datasets\n",
    "wait_till_delete(lambda: forecast.delete_dataset(DatasetArn=datasetArn))"
   ]
  },
  {
   "cell_type": "code",
   "execution_count": 53,
   "metadata": {},
   "outputs": [],
   "source": [
    "# Delete Dataset Group\n",
    "wait_till_delete(lambda: forecast.delete_dataset_group(DatasetGroupArn=datasetGroupArn))"
   ]
  }
 ],
 "metadata": {
  "kernelspec": {
   "display_name": "Python 3",
   "language": "python",
   "name": "python3"
  },
  "language_info": {
   "codemirror_mode": {
    "name": "ipython",
    "version": 3
   },
   "file_extension": ".py",
   "mimetype": "text/x-python",
   "name": "python",
   "nbconvert_exporter": "python",
   "pygments_lexer": "ipython3",
   "version": "3.7.5"
  }
 },
 "nbformat": 4,
 "nbformat_minor": 4
}
