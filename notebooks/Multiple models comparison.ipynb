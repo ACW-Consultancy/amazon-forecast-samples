{
 "cells": [
  {
   "cell_type": "markdown",
   "metadata": {},
   "source": [
    "# Multiple models comparison"
   ]
  },
  {
   "cell_type": "code",
   "execution_count": 115,
   "metadata": {},
   "outputs": [],
   "source": [
    "import boto3\n",
    "from time import sleep\n",
    "import pandas as pd\n",
    "import seaborn as sns\n",
    "import pprint\n",
    "pp = pprint.PrettyPrinter(indent=2)"
   ]
  },
  {
   "cell_type": "code",
   "execution_count": 55,
   "metadata": {},
   "outputs": [],
   "source": [
    "session = boto3.Session(region_name='us-west-2')  #  Ireland: eu-west-1\n",
    "forecast = session.client(service_name='forecast') \n",
    "forecastquery = session.client(service_name='forecastquery')"
   ]
  },
  {
   "cell_type": "code",
   "execution_count": 56,
   "metadata": {},
   "outputs": [],
   "source": [
    "project = 'util_power_forecastdemo' # This should be the same as your previous notebook"
   ]
  },
  {
   "cell_type": "code",
   "execution_count": 57,
   "metadata": {},
   "outputs": [],
   "source": [
    "datasetGroupArn = 'arn:aws:forecast:eu-west-1:553700203877:dataset-group/util_power_forecastdemo_dsg'  # Fill in the quotes from the output of the previous notebook."
   ]
  },
  {
   "cell_type": "code",
   "execution_count": 58,
   "metadata": {},
   "outputs": [
    {
     "name": "stdout",
     "output_type": "stream",
     "text": [
      "{ 'Deep_AR_Plus': { 'algorithm_arn': 'arn:aws:forecast:::algorithm/Deep_AR_Plus',\n",
      "                    'predictor_name': 'util_power_forecastdemo_Deep_AR_Plus_algo'},\n",
      "  'ETS': { 'algorithm_arn': 'arn:aws:forecast:::algorithm/ETS',\n",
      "           'predictor_name': 'util_power_forecastdemo_ETS_algo'},\n",
      "  'Prophet': { 'algorithm_arn': 'arn:aws:forecast:::algorithm/Prophet',\n",
      "               'predictor_name': 'util_power_forecastdemo_Prophet_algo'}}\n"
     ]
    }
   ],
   "source": [
    "algos = ['Prophet', 'ETS', 'Deep_AR_Plus']\n",
    "\n",
    "predictors = {a:{} for a in algos}\n",
    "\n",
    "for p in predictors:\n",
    "    predictors[p]['predictor_name'] = project + '_' + p + '_algo'\n",
    "    predictors[p]['algorithm_arn'] = 'arn:aws:forecast:::algorithm/' + p\n",
    "\n",
    "pp.pprint(predictors)"
   ]
  },
  {
   "cell_type": "code",
   "execution_count": 59,
   "metadata": {},
   "outputs": [],
   "source": [
    "forecastHorizon = 24"
   ]
  },
  {
   "cell_type": "markdown",
   "metadata": {},
   "source": [
    "### Create multiple predictors"
   ]
  },
  {
   "cell_type": "code",
   "execution_count": 60,
   "metadata": {},
   "outputs": [],
   "source": [
    "def create_predictor_response(pred_name, algo_arn, forecast_horizon):\n",
    "    response=forecast.create_predictor(PredictorName=pred_name, \n",
    "                                       AlgorithmArn=algo_arn,\n",
    "                                       ForecastHorizon=forecast_horizon,\n",
    "                                       PerformAutoML= False,\n",
    "                                       PerformHPO=False,\n",
    "                                       EvaluationParameters= {\"NumberOfBacktestWindows\": 1, \n",
    "                                                              \"BackTestWindowOffset\": 24}, \n",
    "                                       InputDataConfig= {\"DatasetGroupArn\": datasetGroupArn},\n",
    "                                       FeaturizationConfig= {\"ForecastFrequency\": \"H\", \n",
    "                                                             \"Featurizations\": \n",
    "                                                             [\n",
    "                                                                 {\"AttributeName\": \"target_value\", \n",
    "                                                                  \"FeaturizationPipeline\": \n",
    "                                                                  [\n",
    "                                                                      {\"FeaturizationMethodName\": \"filling\", \n",
    "                                                                       \"FeaturizationMethodParameters\": \n",
    "                                                                       {\"frontfill\": \"none\", \n",
    "                                                                        \"middlefill\": \"zero\", \n",
    "                                                                        \"backfill\": \"zero\"}\n",
    "                                                                      }\n",
    "                                                                  ]\n",
    "                                                                 }\n",
    "                                                             ]\n",
    "                                                            }\n",
    "                                      )\n",
    "    return response"
   ]
  },
  {
   "cell_type": "code",
   "execution_count": null,
   "metadata": {},
   "outputs": [
    {
     "name": "stdout",
     "output_type": "stream",
     "text": [
      "------------------ Creating Prophet\n",
      "CREATE_PENDING\n",
      "CREATE_IN_PROGRESS\n"
     ]
    }
   ],
   "source": [
    "for p in predictors.keys():\n",
    "    predictor_response = create_predictor_response(predictors[p]['predictor_name'], predictors[p]['algorithm_arn'], forecastHorizon)\n",
    "    \n",
    "    predictorArn=predictor_response['PredictorArn']\n",
    "    \n",
    "    # wait for the predictor to be actually created\n",
    "    print('------------------ Creating ' + p)\n",
    "    while True:\n",
    "        predictorStatus = forecast.describe_predictor(PredictorArn=predictorArn)['Status']\n",
    "        print(predictorStatus)\n",
    "        if predictorStatus != 'ACTIVE' and predictorStatus != 'CREATE_FAILED':\n",
    "            sleep(30)\n",
    "        else:\n",
    "            predictors[p]['predictor_arn'] = predictorArn  # save it, just for reference\n",
    "            break\n",
    "            \n",
    "    # compute accuracy metrics, then proceed with the next algorithm        \n",
    "    predictors[p]['accuracy'] = forecast.get_accuracy_metrics(PredictorArn=predictorArn)"
   ]
  },
  {
   "cell_type": "markdown",
   "metadata": {},
   "source": [
    "**TODO:** (Bar?)plot RMSE, 0.9-, 0.5- and 0.1-quantile LossValues for each algorithm"
   ]
  },
  {
   "cell_type": "code",
   "execution_count": 62,
   "metadata": {},
   "outputs": [
    {
     "name": "stdout",
     "output_type": "stream",
     "text": [
      "{ 'Deep_AR_Plus': { 'accuracy': { 'PredictorEvaluationResults': [ { 'TestWindows': [ { 'EvaluationType': 'SUMMARY',\n",
      "                                                                                       'Metrics': { 'RMSE': 6.175258468529046,\n",
      "                                                                                                    'WeightedQuantileLosses': [ { 'LossValue': 0.04174349584582985,\n",
      "                                                                                                                                  'Quantile': 0.9},\n",
      "                                                                                                                                { 'LossValue': 0.08105242114194346,\n",
      "                                                                                                                                  'Quantile': 0.5},\n",
      "                                                                                                                                { 'LossValue': 0.03566178980479216,\n",
      "                                                                                                                                  'Quantile': 0.1}]}},\n",
      "                                                                                     { 'EvaluationType': 'COMPUTED',\n",
      "                                                                                       'ItemCount': 3,\n",
      "                                                                                       'Metrics': { 'RMSE': 6.175258468529046,\n",
      "                                                                                                    'WeightedQuantileLosses': [ { 'LossValue': 0.04174349584582985,\n",
      "                                                                                                                                  'Quantile': 0.9},\n",
      "                                                                                                                                { 'LossValue': 0.08105242114194346,\n",
      "                                                                                                                                  'Quantile': 0.5},\n",
      "                                                                                                                                { 'LossValue': 0.03566178980479216,\n",
      "                                                                                                                                  'Quantile': 0.1}]},\n",
      "                                                                                       'TestWindowEnd': datetime.datetime(2014, 10, 31, 0, 0, tzinfo=tzlocal()),\n",
      "                                                                                       'TestWindowStart': datetime.datetime(2014, 10, 30, 0, 0, tzinfo=tzlocal())}]}],\n",
      "                                  'ResponseMetadata': { 'HTTPHeaders': { 'connection': 'keep-alive',\n",
      "                                                                         'content-length': '603',\n",
      "                                                                         'content-type': 'application/x-amz-json-1.1',\n",
      "                                                                         'date': 'Tue, '\n",
      "                                                                                 '01 '\n",
      "                                                                                 'Oct '\n",
      "                                                                                 '2019 '\n",
      "                                                                                 '16:38:29 '\n",
      "                                                                                 'GMT',\n",
      "                                                                         'x-amzn-requestid': '1f930216-499f-4f46-a70f-fae39693e372'},\n",
      "                                                        'HTTPStatusCode': 200,\n",
      "                                                        'RequestId': '1f930216-499f-4f46-a70f-fae39693e372',\n",
      "                                                        'RetryAttempts': 0}},\n",
      "                    'algorithm_arn': 'arn:aws:forecast:::algorithm/Deep_AR_Plus',\n",
      "                    'predictor_arn': 'arn:aws:forecast:eu-west-1:553700203877:predictor/util_power_forecastdemo_Deep_AR_Plus_algo',\n",
      "                    'predictor_name': 'util_power_forecastdemo_Deep_AR_Plus_algo'},\n",
      "  'ETS': { 'accuracy': { 'PredictorEvaluationResults': [ { 'TestWindows': [ { 'EvaluationType': 'SUMMARY',\n",
      "                                                                              'Metrics': { 'RMSE': 19.4587748764335,\n",
      "                                                                                           'WeightedQuantileLosses': [ { 'LossValue': 0.05495683836754999,\n",
      "                                                                                                                         'Quantile': 0.9},\n",
      "                                                                                                                       { 'LossValue': 0.19857488099616769,\n",
      "                                                                                                                         'Quantile': 0.5},\n",
      "                                                                                                                       { 'LossValue': 0.11431548662834948,\n",
      "                                                                                                                         'Quantile': 0.1}]}},\n",
      "                                                                            { 'EvaluationType': 'COMPUTED',\n",
      "                                                                              'ItemCount': 3,\n",
      "                                                                              'Metrics': { 'RMSE': 19.4587748764335,\n",
      "                                                                                           'WeightedQuantileLosses': [ { 'LossValue': 0.05495683836754999,\n",
      "                                                                                                                         'Quantile': 0.9},\n",
      "                                                                                                                       { 'LossValue': 0.19857488099616769,\n",
      "                                                                                                                         'Quantile': 0.5},\n",
      "                                                                                                                       { 'LossValue': 0.11431548662834948,\n",
      "                                                                                                                         'Quantile': 0.1}]},\n",
      "                                                                              'TestWindowEnd': datetime.datetime(2014, 10, 31, 0, 0, tzinfo=tzlocal()),\n",
      "                                                                              'TestWindowStart': datetime.datetime(2014, 10, 30, 0, 0, tzinfo=tzlocal())}]}],\n",
      "                         'ResponseMetadata': { 'HTTPHeaders': { 'connection': 'keep-alive',\n",
      "                                                                'content-length': '601',\n",
      "                                                                'content-type': 'application/x-amz-json-1.1',\n",
      "                                                                'date': 'Tue, '\n",
      "                                                                        '01 '\n",
      "                                                                        'Oct '\n",
      "                                                                        '2019 '\n",
      "                                                                        '16:14:56 '\n",
      "                                                                        'GMT',\n",
      "                                                                'x-amzn-requestid': '24f5aa6d-cf08-4715-bddd-8af40b4b2438'},\n",
      "                                               'HTTPStatusCode': 200,\n",
      "                                               'RequestId': '24f5aa6d-cf08-4715-bddd-8af40b4b2438',\n",
      "                                               'RetryAttempts': 0}},\n",
      "           'algorithm_arn': 'arn:aws:forecast:::algorithm/ETS',\n",
      "           'predictor_arn': 'arn:aws:forecast:eu-west-1:553700203877:predictor/util_power_forecastdemo_ETS_algo',\n",
      "           'predictor_name': 'util_power_forecastdemo_ETS_algo'},\n",
      "  'Prophet': { 'accuracy': { 'PredictorEvaluationResults': [ { 'TestWindows': [ { 'EvaluationType': 'SUMMARY',\n",
      "                                                                                  'Metrics': { 'RMSE': 12.608313440831239,\n",
      "                                                                                               'WeightedQuantileLosses': [ { 'LossValue': 0.07405580310614429,\n",
      "                                                                                                                             'Quantile': 0.9},\n",
      "                                                                                                                           { 'LossValue': 0.16094928724417476,\n",
      "                                                                                                                             'Quantile': 0.5},\n",
      "                                                                                                                           { 'LossValue': 0.059165227916309925,\n",
      "                                                                                                                             'Quantile': 0.1}]}},\n",
      "                                                                                { 'EvaluationType': 'COMPUTED',\n",
      "                                                                                  'ItemCount': 3,\n",
      "                                                                                  'Metrics': { 'RMSE': 12.608313440831239,\n",
      "                                                                                               'WeightedQuantileLosses': [ { 'LossValue': 0.07405580310614429,\n",
      "                                                                                                                             'Quantile': 0.9},\n",
      "                                                                                                                           { 'LossValue': 0.16094928724417476,\n",
      "                                                                                                                             'Quantile': 0.5},\n",
      "                                                                                                                           { 'LossValue': 0.059165227916309925,\n",
      "                                                                                                                             'Quantile': 0.1}]},\n",
      "                                                                                  'TestWindowEnd': datetime.datetime(2014, 10, 31, 0, 0, tzinfo=tzlocal()),\n",
      "                                                                                  'TestWindowStart': datetime.datetime(2014, 10, 30, 0, 0, tzinfo=tzlocal())}]}],\n",
      "                             'ResponseMetadata': { 'HTTPHeaders': { 'connection': 'keep-alive',\n",
      "                                                                    'content-length': '607',\n",
      "                                                                    'content-type': 'application/x-amz-json-1.1',\n",
      "                                                                    'date': 'Tue, '\n",
      "                                                                            '01 '\n",
      "                                                                            'Oct '\n",
      "                                                                            '2019 '\n",
      "                                                                            '15:58:24 '\n",
      "                                                                            'GMT',\n",
      "                                                                    'x-amzn-requestid': 'be9391e3-8581-4225-9fae-2e1fc7bdc117'},\n",
      "                                                   'HTTPStatusCode': 200,\n",
      "                                                   'RequestId': 'be9391e3-8581-4225-9fae-2e1fc7bdc117',\n",
      "                                                   'RetryAttempts': 0}},\n",
      "               'algorithm_arn': 'arn:aws:forecast:::algorithm/Prophet',\n",
      "               'predictor_arn': 'arn:aws:forecast:eu-west-1:553700203877:predictor/util_power_forecastdemo_Prophet_algo',\n",
      "               'predictor_name': 'util_power_forecastdemo_Prophet_algo'}}\n"
     ]
    }
   ],
   "source": [
    "pp.pprint(predictors)"
   ]
  },
  {
   "cell_type": "code",
   "execution_count": 124,
   "metadata": {},
   "outputs": [],
   "source": [
    "scores = pd.DataFrame(columns=['predictor', 'RMSE'])\n",
    "for p in predictors:\n",
    "    score = predictors[p]['accuracy']['PredictorEvaluationResults'][0]['TestWindows'][0]['Metrics']['RMSE']\n",
    "    scores = scores.append(pd.DataFrame({'predictor':[p], 'RMSE':[score]}), ignore_index=True)"
   ]
  },
  {
   "cell_type": "code",
   "execution_count": 130,
   "metadata": {},
   "outputs": [
    {
     "data": {
      "image/png": "[encoded data removed]",
      "text/plain": [
       "<Figure size 432x288 with 1 Axes>"
      ]
     },
     "metadata": {},
     "output_type": "display_data"
    }
   ],
   "source": [
    "fig = sns.barplot(data=scores, x='predictor', y='RMSE').set_title('Root Mean Square Error')"
   ]
  }
 ],
 "metadata": {
  "kernelspec": {
   "display_name": "rasa1",
   "language": "python",
   "name": "rasa1"
  },
  "language_info": {
   "codemirror_mode": {
    "name": "ipython",
    "version": 3
   },
   "file_extension": ".py",
   "mimetype": "text/x-python",
   "name": "python",
   "nbconvert_exporter": "python",
   "pygments_lexer": "ipython3",
   "version": "3.7.3"
  }
 },
 "nbformat": 4,
 "nbformat_minor": 4
}
