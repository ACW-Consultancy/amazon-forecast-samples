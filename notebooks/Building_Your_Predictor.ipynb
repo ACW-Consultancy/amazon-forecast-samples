{
 "cells": [
  {
   "cell_type": "markdown",
   "metadata": {},
   "source": [
    "# Building Your Predictor\n",
    "\n",
    "The next step after preparing and importing your data via `Getting_Data_Ready.ipynb` is to build your first model.\n",
    "\n",
    "The overall process for this is:\n",
    "\n",
    "* Setup\n",
    "* Create a Predictor\n",
    "* Deploy a Predictor\n",
    "* Obtain a Forecast\n",
    "\n",
    "To get started, simply execute the cells below:\n"
   ]
  },
  {
   "cell_type": "markdown",
   "metadata": {},
   "source": [
    "## Setup\n",
    "\n",
    "Amazon Forecast is still in preview, to update to the latest functionality execute the cells below."
   ]
  },
  {
   "cell_type": "code",
   "execution_count": 1,
   "metadata": {},
   "outputs": [],
   "source": [
    "# Configures your AWS CLI for Amazon Forecast\n",
    "!aws configure add-model --service-model file://../sdk/forecastquery-2019-08-12.normal.json --service-name forecastquery\n",
    "!aws configure add-model --service-model file://../sdk/forecast-2019-08-12.normal.json --service-name forecast"
   ]
  },
  {
   "cell_type": "markdown",
   "metadata": {},
   "source": [
    "Next import the standard Python Libraries that are used in this lesson."
   ]
  },
  {
   "cell_type": "code",
   "execution_count": 2,
   "metadata": {},
   "outputs": [],
   "source": [
    "import boto3\n",
    "from time import sleep\n",
    "import subprocess\n",
    "import pandas as pd\n",
    "import json\n",
    "import time"
   ]
  },
  {
   "cell_type": "markdown",
   "metadata": {},
   "source": [
    "The last part of the setup process is to validate that your account can communicate with Amazon Forecast, the cell below does just that."
   ]
  },
  {
   "cell_type": "code",
   "execution_count": 3,
   "metadata": {},
   "outputs": [],
   "source": [
    "session = boto3.Session(region_name='us-west-2') \n",
    "forecast = session.client(service_name='forecast') \n",
    "forecastquery = session.client(service_name='forecastquery')"
   ]
  },
  {
   "cell_type": "markdown",
   "metadata": {},
   "source": [
    "## Create a Predictor\n",
    "\n",
    "Now in the previous notebook, your data was imported to be used by Forecast, here we will once again define your dataset information and then start building your model or predictor."
   ]
  },
  {
   "cell_type": "markdown",
   "metadata": {},
   "source": [
    "Forecast horizon is the number of number of time points to predicted in the future. For weekly data, a value of 12 means 12 weeks. Our example is hourly data, we try forecast the next day, so we can set to 24."
   ]
  },
  {
   "cell_type": "code",
   "execution_count": 4,
   "metadata": {},
   "outputs": [],
   "source": [
    "project = 'electric_power_forecastdemo' # This should be the same as your previous notebook"
   ]
  },
  {
   "cell_type": "code",
   "execution_count": 5,
   "metadata": {},
   "outputs": [],
   "source": [
    "predictorName= project+'_arima_algo'"
   ]
  },
  {
   "cell_type": "code",
   "execution_count": 6,
   "metadata": {},
   "outputs": [],
   "source": [
    "forecastHorizon = 24"
   ]
  },
  {
   "cell_type": "code",
   "execution_count": 7,
   "metadata": {},
   "outputs": [],
   "source": [
    "algorithmArn = 'arn:aws:forecast:::algorithm/ARIMA'"
   ]
  },
  {
   "cell_type": "code",
   "execution_count": 8,
   "metadata": {},
   "outputs": [],
   "source": [
    "datasetGroupArn = \"arn:aws:forecast:us-west-2:059124553121:dataset-group/util_power_forecastdemo_dsg\" # Fill in the quotes from the output of the previous notebook."
   ]
  },
  {
   "cell_type": "code",
   "execution_count": 9,
   "metadata": {},
   "outputs": [],
   "source": [
    "create_predictor_response=forecast.create_predictor(PredictorName=predictorName, \n",
    "                                                  AlgorithmArn=algorithmArn,\n",
    "                                                  ForecastHorizon=forecastHorizon,\n",
    "                                                  PerformAutoML= False,\n",
    "                                                  PerformHPO=False,\n",
    "                                                  EvaluationParameters= {\"NumberOfBacktestWindows\": 1, \n",
    "                                                                         \"BackTestWindowOffset\": 24}, \n",
    "                                                  InputDataConfig= {\"DatasetGroupArn\": datasetGroupArn},\n",
    "                                                  FeaturizationConfig= {\"ForecastFrequency\": \"H\", \n",
    "                                                                        \"Featurizations\": \n",
    "                                                                        [\n",
    "                                                                          {\"AttributeName\": \"target_value\", \n",
    "                                                                           \"FeaturizationPipeline\": \n",
    "                                                                            [\n",
    "                                                                              {\"FeaturizationMethodName\": \"filling\", \n",
    "                                                                               \"FeaturizationMethodParameters\": \n",
    "                                                                                {\"frontfill\": \"none\", \n",
    "                                                                                 \"middlefill\": \"zero\", \n",
    "                                                                                 \"backfill\": \"zero\"}\n",
    "                                                                              }\n",
    "                                                                            ]\n",
    "                                                                          }\n",
    "                                                                        ]\n",
    "                                                                       }\n",
    "                                                 )"
   ]
  },
  {
   "cell_type": "code",
   "execution_count": 10,
   "metadata": {},
   "outputs": [],
   "source": [
    "predictorArn=create_predictor_response['PredictorArn']"
   ]
  },
  {
   "cell_type": "markdown",
   "metadata": {},
   "source": [
    "Check the status of the predictor. When the status change from **CREATE_IN_PROGRESS** to **ACTIVE**, we can continue to next steps. Depending on data size, model selection and hyper parameters，it can take 10 mins to more than one hour to be **ACTIVE**."
   ]
  },
  {
   "cell_type": "code",
   "execution_count": 11,
   "metadata": {},
   "outputs": [
    {
     "name": "stdout",
     "output_type": "stream",
     "text": [
      "CREATE_PENDING\n",
      "CREATE_IN_PROGRESS\n",
      "CREATE_IN_PROGRESS\n",
      "CREATE_IN_PROGRESS\n",
      "CREATE_IN_PROGRESS\n",
      "CREATE_IN_PROGRESS\n",
      "CREATE_IN_PROGRESS\n",
      "CREATE_IN_PROGRESS\n",
      "CREATE_IN_PROGRESS\n",
      "CREATE_IN_PROGRESS\n",
      "CREATE_IN_PROGRESS\n",
      "CREATE_IN_PROGRESS\n",
      "CREATE_IN_PROGRESS\n",
      "CREATE_IN_PROGRESS\n",
      "CREATE_IN_PROGRESS\n",
      "CREATE_IN_PROGRESS\n",
      "CREATE_IN_PROGRESS\n",
      "CREATE_IN_PROGRESS\n",
      "CREATE_IN_PROGRESS\n",
      "CREATE_IN_PROGRESS\n",
      "CREATE_IN_PROGRESS\n",
      "CREATE_IN_PROGRESS\n",
      "CREATE_IN_PROGRESS\n",
      "CREATE_IN_PROGRESS\n",
      "CREATE_IN_PROGRESS\n",
      "CREATE_IN_PROGRESS\n",
      "CREATE_IN_PROGRESS\n",
      "CREATE_IN_PROGRESS\n",
      "CREATE_IN_PROGRESS\n",
      "CREATE_IN_PROGRESS\n",
      "CREATE_IN_PROGRESS\n",
      "CREATE_IN_PROGRESS\n",
      "CREATE_IN_PROGRESS\n",
      "CREATE_IN_PROGRESS\n",
      "CREATE_IN_PROGRESS\n",
      "CREATE_IN_PROGRESS\n",
      "ACTIVE\n"
     ]
    }
   ],
   "source": [
    "while True:\n",
    "    predictorStatus = forecast.describe_predictor(PredictorArn=predictorArn)['Status']\n",
    "    print(predictorStatus)\n",
    "    if predictorStatus != 'ACTIVE' and predictorStatus != 'CREATE_FAILED':\n",
    "        sleep(30)\n",
    "    else:\n",
    "        break"
   ]
  },
  {
   "cell_type": "markdown",
   "metadata": {},
   "source": [
    "### Get Error Metrics"
   ]
  },
  {
   "cell_type": "code",
   "execution_count": 12,
   "metadata": {},
   "outputs": [
    {
     "data": {
      "text/plain": [
       "{'PredictorEvaluationResults': [{'TestWindows': [{'EvaluationType': 'SUMMARY',\n",
       "     'Metrics': {'RMSE': 15.858717295125148,\n",
       "      'WeightedQuantileLosses': [{'Quantile': 0.9,\n",
       "        'LossValue': 0.05510762517210228},\n",
       "       {'Quantile': 0.5, 'LossValue': 0.17311171552235247},\n",
       "       {'Quantile': 0.1, 'LossValue': 0.09249091407423402}]}},\n",
       "    {'TestWindowStart': datetime.datetime(2014, 10, 30, 0, 0, tzinfo=tzlocal()),\n",
       "     'TestWindowEnd': datetime.datetime(2014, 10, 31, 0, 0, tzinfo=tzlocal()),\n",
       "     'EvaluationType': 'COMPUTED',\n",
       "     'Metrics': {'RMSE': 15.858717295125148,\n",
       "      'WeightedQuantileLosses': [{'Quantile': 0.9,\n",
       "        'LossValue': 0.05510762517210228},\n",
       "       {'Quantile': 0.5, 'LossValue': 0.17311171552235247},\n",
       "       {'Quantile': 0.1, 'LossValue': 0.09249091407423402}]}}]}],\n",
       " 'ResponseMetadata': {'RequestId': '9d079de8-c5a3-4900-bd1e-e9e1eadf26f6',\n",
       "  'HTTPStatusCode': 200,\n",
       "  'HTTPHeaders': {'content-type': 'application/x-amz-json-1.1',\n",
       "   'date': 'Wed, 21 Aug 2019 13:53:08 GMT',\n",
       "   'x-amzn-requestid': '9d079de8-c5a3-4900-bd1e-e9e1eadf26f6',\n",
       "   'content-length': '591',\n",
       "   'connection': 'keep-alive'},\n",
       "  'RetryAttempts': 0}}"
      ]
     },
     "execution_count": 12,
     "metadata": {},
     "output_type": "execute_result"
    }
   ],
   "source": [
    "forecast.get_accuracy_metrics(PredictorArn=predictorArn)"
   ]
  },
  {
   "cell_type": "markdown",
   "metadata": {},
   "source": [
    "## Create a Forecast\n",
    "\n",
    "Now create a forecast using the model that was trained"
   ]
  },
  {
   "cell_type": "code",
   "execution_count": 13,
   "metadata": {},
   "outputs": [],
   "source": [
    "forecastName= project+'_arima_algo_forecast'"
   ]
  },
  {
   "cell_type": "code",
   "execution_count": 14,
   "metadata": {},
   "outputs": [],
   "source": [
    "create_forecast_response=forecast.create_forecast(ForecastName=forecastName,\n",
    "                                                  PredictorArn=predictorArn)\n",
    "forecastArn = create_forecast_response['ForecastArn']"
   ]
  },
  {
   "cell_type": "markdown",
   "metadata": {},
   "source": [
    "Check the status of the forecast process, when the status change from **CREATE_IN_PROGRESS** to **ACTIVE**, we can continue to next steps. Depending on data size, model selection and hyper parameters，it can take 10 mins to more than one hour to be **ACTIVE**."
   ]
  },
  {
   "cell_type": "code",
   "execution_count": 15,
   "metadata": {},
   "outputs": [
    {
     "name": "stdout",
     "output_type": "stream",
     "text": [
      "CREATE_PENDING\n",
      "CREATE_IN_PROGRESS\n",
      "CREATE_IN_PROGRESS\n",
      "CREATE_IN_PROGRESS\n",
      "CREATE_IN_PROGRESS\n",
      "CREATE_IN_PROGRESS\n",
      "CREATE_IN_PROGRESS\n",
      "CREATE_IN_PROGRESS\n",
      "CREATE_IN_PROGRESS\n",
      "CREATE_IN_PROGRESS\n",
      "CREATE_IN_PROGRESS\n",
      "CREATE_IN_PROGRESS\n",
      "CREATE_IN_PROGRESS\n",
      "CREATE_IN_PROGRESS\n",
      "CREATE_IN_PROGRESS\n",
      "CREATE_IN_PROGRESS\n",
      "CREATE_IN_PROGRESS\n",
      "CREATE_IN_PROGRESS\n",
      "CREATE_IN_PROGRESS\n",
      "CREATE_IN_PROGRESS\n",
      "CREATE_IN_PROGRESS\n",
      "CREATE_IN_PROGRESS\n",
      "CREATE_IN_PROGRESS\n",
      "CREATE_IN_PROGRESS\n",
      "CREATE_IN_PROGRESS\n",
      "CREATE_IN_PROGRESS\n",
      "CREATE_IN_PROGRESS\n",
      "CREATE_IN_PROGRESS\n",
      "CREATE_IN_PROGRESS\n",
      "CREATE_IN_PROGRESS\n",
      "CREATE_IN_PROGRESS\n",
      "CREATE_IN_PROGRESS\n",
      "CREATE_IN_PROGRESS\n",
      "ACTIVE\n"
     ]
    }
   ],
   "source": [
    "while True:\n",
    "    forecastStatus = forecast.describe_forecast(ForecastArn=forecastArn)['Status']\n",
    "    print(forecastStatus)\n",
    "    if forecastStatus != 'ACTIVE' and forecastStatus != 'CREATE_FAILED':\n",
    "        sleep(30)\n",
    "    else:\n",
    "        break"
   ]
  },
  {
   "cell_type": "markdown",
   "metadata": {},
   "source": [
    "### Get Forecast"
   ]
  },
  {
   "cell_type": "markdown",
   "metadata": {},
   "source": [
    "Once created, the forecast results are ready and you view them. "
   ]
  },
  {
   "cell_type": "code",
   "execution_count": 16,
   "metadata": {},
   "outputs": [
    {
     "name": "stdout",
     "output_type": "stream",
     "text": [
      "arn:aws:forecast:us-west-2:059124553121:forecast/electric_power_forecastdemo_arima_algo_forecast\n",
      "{'Forecast': {'Predictions': {'p10': [{'Timestamp': '2014-10-31T00:00:00', 'Value': 29.775606155395508}, {'Timestamp': '2014-10-31T01:00:00', 'Value': 24.531373977661133}, {'Timestamp': '2014-10-31T02:00:00', 'Value': 23.613906860351562}, {'Timestamp': '2014-10-31T03:00:00', 'Value': 18.986337661743164}, {'Timestamp': '2014-10-31T04:00:00', 'Value': 16.847822189331055}, {'Timestamp': '2014-10-31T05:00:00', 'Value': 12.550665855407715}, {'Timestamp': '2014-10-31T06:00:00', 'Value': 6.858987331390381}, {'Timestamp': '2014-10-31T07:00:00', 'Value': 13.320586204528809}, {'Timestamp': '2014-10-31T08:00:00', 'Value': 40.33671188354492}, {'Timestamp': '2014-10-31T09:00:00', 'Value': 79.19049835205078}, {'Timestamp': '2014-10-31T10:00:00', 'Value': 108.01700592041016}, {'Timestamp': '2014-10-31T11:00:00', 'Value': 111.27761840820312}, {'Timestamp': '2014-10-31T12:00:00', 'Value': 95.26617431640625}, {'Timestamp': '2014-10-31T13:00:00', 'Value': 79.75759887695312}, {'Timestamp': '2014-10-31T14:00:00', 'Value': 77.45387268066406}, {'Timestamp': '2014-10-31T15:00:00', 'Value': 84.63418579101562}, {'Timestamp': '2014-10-31T16:00:00', 'Value': 89.9141845703125}, {'Timestamp': '2014-10-31T17:00:00', 'Value': 86.89411163330078}, {'Timestamp': '2014-10-31T18:00:00', 'Value': 76.86329650878906}, {'Timestamp': '2014-10-31T19:00:00', 'Value': 63.535194396972656}, {'Timestamp': '2014-10-31T20:00:00', 'Value': 49.099876403808594}, {'Timestamp': '2014-10-31T21:00:00', 'Value': 35.06508255004883}, {'Timestamp': '2014-10-31T22:00:00', 'Value': 23.077436447143555}, {'Timestamp': '2014-10-31T23:00:00', 'Value': 14.01325798034668}], 'p50': [{'Timestamp': '2014-10-31T00:00:00', 'Value': 49.739681243896484}, {'Timestamp': '2014-10-31T01:00:00', 'Value': 50.541526794433594}, {'Timestamp': '2014-10-31T02:00:00', 'Value': 52.032894134521484}, {'Timestamp': '2014-10-31T03:00:00', 'Value': 50.317169189453125}, {'Timestamp': '2014-10-31T04:00:00', 'Value': 49.50912094116211}, {'Timestamp': '2014-10-31T05:00:00', 'Value': 46.53350830078125}, {'Timestamp': '2014-10-31T06:00:00', 'Value': 42.97209930419922}, {'Timestamp': '2014-10-31T07:00:00', 'Value': 50.85392761230469}, {'Timestamp': '2014-10-31T08:00:00', 'Value': 78.53546142578125}, {'Timestamp': '2014-10-31T09:00:00', 'Value': 117.95297241210938}, {'Timestamp': '2014-10-31T10:00:00', 'Value': 147.57717895507812}, {'Timestamp': '2014-10-31T11:00:00', 'Value': 151.7537078857422}, {'Timestamp': '2014-10-31T12:00:00', 'Value': 136.31906127929688}, {'Timestamp': '2014-10-31T13:00:00', 'Value': 121.07662200927734}, {'Timestamp': '2014-10-31T14:00:00', 'Value': 119.0457534790039}, {'Timestamp': '2014-10-31T15:00:00', 'Value': 126.68394470214844}, {'Timestamp': '2014-10-31T16:00:00', 'Value': 132.41485595703125}, {'Timestamp': '2014-10-31T17:00:00', 'Value': 129.6169891357422}, {'Timestamp': '2014-10-31T18:00:00', 'Value': 119.69556427001953}, {'Timestamp': '2014-10-31T19:00:00', 'Value': 106.52794647216797}, {'Timestamp': '2014-10-31T20:00:00', 'Value': 92.35800170898438}, {'Timestamp': '2014-10-31T21:00:00', 'Value': 78.53271484375}, {'Timestamp': '2014-10-31T22:00:00', 'Value': 66.62677764892578}, {'Timestamp': '2014-10-31T23:00:00', 'Value': 57.61296844482422}], 'p90': [{'Timestamp': '2014-10-31T00:00:00', 'Value': 69.70375061035156}, {'Timestamp': '2014-10-31T01:00:00', 'Value': 76.55168151855469}, {'Timestamp': '2014-10-31T02:00:00', 'Value': 80.4518814086914}, {'Timestamp': '2014-10-31T03:00:00', 'Value': 81.64800262451172}, {'Timestamp': '2014-10-31T04:00:00', 'Value': 82.17041778564453}, {'Timestamp': '2014-10-31T05:00:00', 'Value': 80.51634979248047}, {'Timestamp': '2014-10-31T06:00:00', 'Value': 79.08521270751953}, {'Timestamp': '2014-10-31T07:00:00', 'Value': 88.38726806640625}, {'Timestamp': '2014-10-31T08:00:00', 'Value': 116.73420715332031}, {'Timestamp': '2014-10-31T09:00:00', 'Value': 156.71543884277344}, {'Timestamp': '2014-10-31T10:00:00', 'Value': 187.13734436035156}, {'Timestamp': '2014-10-31T11:00:00', 'Value': 192.22979736328125}, {'Timestamp': '2014-10-31T12:00:00', 'Value': 177.3719482421875}, {'Timestamp': '2014-10-31T13:00:00', 'Value': 162.39564514160156}, {'Timestamp': '2014-10-31T14:00:00', 'Value': 160.63763427734375}, {'Timestamp': '2014-10-31T15:00:00', 'Value': 168.73370361328125}, {'Timestamp': '2014-10-31T16:00:00', 'Value': 174.91551208496094}, {'Timestamp': '2014-10-31T17:00:00', 'Value': 172.33987426757812}, {'Timestamp': '2014-10-31T18:00:00', 'Value': 162.52784729003906}, {'Timestamp': '2014-10-31T19:00:00', 'Value': 149.5207061767578}, {'Timestamp': '2014-10-31T20:00:00', 'Value': 135.6161346435547}, {'Timestamp': '2014-10-31T21:00:00', 'Value': 122.00035095214844}, {'Timestamp': '2014-10-31T22:00:00', 'Value': 110.17611694335938}, {'Timestamp': '2014-10-31T23:00:00', 'Value': 101.21267700195312}]}}, 'ResponseMetadata': {'RequestId': '2dc7aac6-c737-4cbe-a7aa-d766f7234ee8', 'HTTPStatusCode': 200, 'HTTPHeaders': {'content-type': 'application/x-amz-json-1.1', 'date': 'Wed, 21 Aug 2019 14:09:54 GMT', 'x-amzn-requestid': '2dc7aac6-c737-4cbe-a7aa-d766f7234ee8', 'content-length': '4550', 'connection': 'keep-alive'}, 'RetryAttempts': 0}}\n"
     ]
    }
   ],
   "source": [
    "print(forecastArn)\n",
    "forecastResponse = forecastquery.query_forecast(\n",
    "    ForecastArn=forecastArn,\n",
    "    Filters={\"item_id\":\"client_12\"}\n",
    ")\n",
    "print(forecastResponse)"
   ]
  },
  {
   "cell_type": "code",
   "execution_count": null,
   "metadata": {},
   "outputs": [],
   "source": []
  }
 ],
 "metadata": {
  "kernelspec": {
   "display_name": "conda_python3",
   "language": "python",
   "name": "conda_python3"
  },
  "language_info": {
   "codemirror_mode": {
    "name": "ipython",
    "version": 3
   },
   "file_extension": ".py",
   "mimetype": "text/x-python",
   "name": "python",
   "nbconvert_exporter": "python",
   "pygments_lexer": "ipython3",
   "version": "3.6.5"
  }
 },
 "nbformat": 4,
 "nbformat_minor": 4
}
