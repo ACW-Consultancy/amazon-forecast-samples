{
 "cells": [
  {
   "cell_type": "markdown",
   "metadata": {},
   "source": [
    "## Compute forecast metrics using item-level backtests"
   ]
  },
  {
   "cell_type": "markdown",
   "metadata": {},
   "source": [
    "<b>DC Bikeshare Rentals data</b>\n",
    "\n",
    "Our goal is to predict the number of DC Bikeshare rentals in the next 24 hours for each of 467 rental locations.  To do this, we used Amazon Forecast to create forecasts with 1 hour frequency and 1 week forecast horizon.   \n",
    "<ul>\n",
    "    <li>See <a href=\"https://aws.amazon.com/blogs/machine-learning/measuring-forecast-model-accuracy-to-optimize-your-business-objectives-with-amazon-forecast/, target='_blank' \">blog post for screens how the forecast was created.</a></li>\n",
    "<li>Original data source: <a href=\"https://www.capitalbikeshare.com/system-data\", target='_blank'\"> https://www.capitalbikeshare.com/system-data</a> </li>\n",
    "    </ul>  \n",
    "\n",
    "This notebook picks up after the blog post Predictor has been trained.  In the overall Amazon Forecast workflow, this notebook covers <i>step 6. Inspect the model using the backtest window forecasts, see context below.</i>\n",
    "<br><br>\n",
    "\n",
    "\n",
    "<b>Overall process for using Amazon Forecast:</b>\n",
    "\n",
    "![alt text](images/forecast_steps_overview.png \"Title\")\n",
    "\n",
    "<ol>\n",
    "    <li>Prepare your data and save up to 3 separate .csv files.  In Forecast there are  3 types of Datasets (Target, Related, and Meta data). <br>\n",
    "        <ul>\n",
    "        <li>The Target Time Series is required, it is the historical values of what you're trying to predict, i.e. historical y-values or target values.  The others provide additional context with certain algorithms. <br>\n",
    "        </ul><br>\n",
    "    <li>Per dataset, you will specify the schema. </li>\n",
    "    <li>Per dataset, create a Data Import Job. Give the S3 location where data will be read from. </li>\n",
    "    <li>Create a Dataset Group.  This is a container that groups together your models, data they are trained on, and forecasts.  <br>\n",
    "        <ul>\n",
    "            <li>Having this grouping is convenient if in the future, you want to look up artifacts how you ran a particular forecast. </li>\n",
    "        <li>The Dataset Group is also how you can run inferences (forecasts) in the future, without retraining, just by importing new data, by creating a new Data Import job.  </li>\n",
    "        </ul><br>\n",
    "    <li>Train a model.  Amazon Forecast offers AutoML to do this process for you, but you can also select a particular algorithm (6 built-in algorithms).  AutoML will do Hyper Parameter Optimization(HPO) to determine the most performant values automatically, or you can select your own values.</li>\n",
    "    <b><li>Inspect the model using the backtest window forecasts. This notebook focuses on this step.</li>\n",
    "    <ul>\n",
    "    <li>We will use the built-in feature of Amazon Forecast that exports backtest window forecasts together with actuals, for Predictor analysis.  </li>\n",
    "    <li>Predictor evaluation is recommended to make an informed decision whether to deploy the current Predictor to make Forecasts, or whether to fix something in the data setup and train a new Predictor. </li></b>\n",
    "    </ul><br>\n",
    "    <li>Deploy the model (or create a forecast).  Here you are deploying your model so you can use it to do inferences (or generate forecasts).</li>\n",
    "    <li>Query and visualize the Forecast (available in console UI). Spot-check actual values and forecasted values at different quantiles in the console for a particular itemID. The visualization feature in the console is basic, not user-interactive.  For more advanced visualizations, consider exporting your forecasts to an S3 location and point your BI tool (e.g. Tableau or Quicksight) to that data.</li>\n",
    "    </ol>\n",
    "<br>\n",
    "\n",
    "\n",
    "<b>Table Of Contents for task of inspecting the model using the backtest window forecasts</b>\n",
    "* [Set up and install libraries](#setup)\n",
    "* [Export predictor backtests](#export)\n",
    "* [Assemble and read predictor backtest files](#read)\n",
    "* [Demo using item-level forecast files](#demo)\n",
    "* [Calculate custom metric MAPE](#mape)\n",
    "* [Calculate another custom metric log(RMSE)](#logrmse)\n",
    "* [Visualizations of backtest windows](#visualizations)\n",
    "\n",
    "<br>"
   ]
  },
  {
   "cell_type": "markdown",
   "metadata": {},
   "source": [
    "## Set up  <a class=\"anchor\" id=\"setup\"></a>\n",
    "Import Python and aws libraries\n"
   ]
  },
  {
   "cell_type": "code",
   "execution_count": 7,
   "metadata": {},
   "outputs": [
    {
     "name": "stdout",
     "output_type": "stream",
     "text": [
      "Enabling notebook extension jupyter-js-widgets/extension...\n",
      "      - Validating: \u001b[32mOK\u001b[0m\n",
      "pandas: 1.0.5\n",
      "numpy: 1.19.1\n"
     ]
    }
   ],
   "source": [
    "import sys\n",
    "import os\n",
    "# import time\n",
    "# import datetime\n",
    "import random\n",
    "import pprint\n",
    "pp = pprint.PrettyPrinter(indent=2)  # Better display for dictionaries\n",
    "\n",
    "# display ipython widgets in notebook\n",
    "!jupyter nbextension enable --py --sys-prefix widgetsnbextension\n",
    "\n",
    "import pandas as pd\n",
    "print('pandas: {}'.format(pd.__version__))\n",
    "# display all columns wide\n",
    "pd.set_option('display.max_columns', None)\n",
    "# display all rows long\n",
    "pd.set_option('display.max_rows', None)\n",
    "# display horizontal scrollbar for wide columns\n",
    "pd.set_option('display.width', 5000)\n",
    "pd.set_option('display.max_colwidth', 5000)\n",
    "#turn off scientific notation\n",
    "pd.set_option('display.float_format', lambda x: '%.5f' % x)\n",
    "\n",
    "import numpy as np\n",
    "print('numpy: {}'.format(np.__version__))\n",
    "import matplotlib.pyplot as plt\n",
    "%matplotlib inline \n",
    "\n",
    "\n",
    "# Python library for AWS APIs\n",
    "import boto3\n",
    "\n",
    "# importing forecast notebook utility from notebooks/common directory\n",
    "sys.path.insert( 0, os.path.abspath(\"../../common\") )\n",
    "import util"
   ]
  },
  {
   "cell_type": "code",
   "execution_count": 103,
   "metadata": {},
   "outputs": [],
   "source": [
    "### TODO delete later\n",
    "# util doesn't exist so create locally\n",
    "import ipywidgets\n",
    "\n",
    "\n",
    "widget_table = {}\n",
    "\n",
    "def create_text_widget( name, placeholder, default_value=\"\" ):\n",
    "    \n",
    "    layout = ipywidgets.Layout(horz=\"top\", object_fit=\"scale-down\"\n",
    "                               , width='auto'\n",
    "                               , display=\"flex\"\n",
    "                              ) \n",
    "\n",
    "    if name in widget_table:\n",
    "        widget = widget_table[name]\n",
    "    if name not in widget_table:\n",
    "        widget = ipywidgets.Text( description = name, placeholder = placeholder\n",
    "                                 , value=default_value \n",
    "                                 , layout = layout)\n",
    "        widget_table[name] = widget\n",
    "    display(widget)\n",
    "    \n",
    "    return widget\n",
    "\n",
    "\n",
    "\n",
    "class StatusIndicator:\n",
    "    \n",
    "    def __init__(self):\n",
    "        self.previous_status = None\n",
    "        self.need_newline = False\n",
    "        \n",
    "    def update( self, status ):\n",
    "        if self.previous_status != status:\n",
    "            if self.need_newline:\n",
    "                sys.stdout.write(\"\\n\")\n",
    "            sys.stdout.write( status + \" \")\n",
    "            self.need_newline = True\n",
    "            self.previous_status = status\n",
    "        else:\n",
    "            sys.stdout.write(\".\")\n",
    "            self.need_newline = True\n",
    "        sys.stdout.flush()\n",
    "\n",
    "    def end(self):\n",
    "        if self.need_newline:\n",
    "            sys.stdout.write(\"\\n\")\n"
   ]
  },
  {
   "cell_type": "code",
   "execution_count": null,
   "metadata": {},
   "outputs": [],
   "source": [
    "def get_velocity_per_item(df, timestamp_col, item_id_col=\"item_id\"):\n",
    "    \"\"\"Calculate item velocity as item demand per hour.  \n",
    "    \"\"\"\n",
    "    df[timestamp_col] = pd.to_datetime(df[timestamp_col], format='%Y-%m-%d %H:%M:%S')\n",
    "    \n",
    "    max_time_df = df.groupby([item_id_col], as_index=False).max()[[item_id_col, timestamp_col]]\n",
    "    max_time_df.columns = [item_id_col, 'max_time']\n",
    "    \n",
    "    min_time_df = df.groupby([item_id_col], as_index=False).min()[[item_id_col, timestamp_col]]\n",
    "    min_time_df.columns = [item_id_col, 'min_time']\n",
    "    \n",
    "    df = df.merge(right=max_time_df, on=item_id_col)\n",
    "    df = df.merge(right=min_time_df, on=item_id_col)\n",
    "    \n",
    "    df['time_span'] = df['max_time'] - df['min_time']\n",
    "    df['time_span'] = df['time_span'].apply(lambda x: x.seconds / 3600 + 1) # add 1 to include start datetime and end datetime\n",
    "    df = df.groupby([item_id_col], as_index=False).agg({'time_span':'mean', 'target_value':'sum'})\n",
    "    df['velocity'] = df['target_value'] / df['time_span']\n",
    "    return df\n",
    "\n",
    "\n",
    "# based on all available records, could beyond 4 windows\n",
    "def get_fast_slow_moving_items_all(gt_df\n",
    "                                   , timestamp_col\n",
    "                                   , target_value_col\n",
    "                                   , item_id_col=\"item_id\"):\n",
    "    \"\"\"Calculate mean velocity over all items as \"criteria\".\n",
    "       Assign each item into category \"fast\" or \"slow\" depending on whether its velocity > criteria.\n",
    "    \"\"\"\n",
    "    gt_df_velocity = gt_df[[item_id_col, timestamp_col, target_value_col]].copy().reset_index(drop=True)\n",
    "    gt_df_velocity = get_velocity_per_item(gt_df_velocity, timestamp_col, item_id_col)\n",
    "    criteria = gt_df_velocity['velocity'].mean()\n",
    "    gt_df_velocity['fast_moving'] = gt_df_velocity['velocity'] > criteria\n",
    "    print('average velocity of all items:', criteria)\n",
    "    \n",
    "    fast_moving_items = gt_df_velocity[gt_df_velocity['fast_moving'] == True][item_id_col].to_list()\n",
    "    slow_moving_items = gt_df_velocity[gt_df_velocity['fast_moving'] == False][item_id_col].to_list()\n",
    "    return fast_moving_items, slow_moving_items"
   ]
  },
  {
   "cell_type": "markdown",
   "metadata": {},
   "source": [
    "In order to run Amazon Forecast, you'll need an AWS account.  \n",
    "<b>Make sure you can log in to: https://console.aws.amazon.com/.  </b>  Then read each cell carefully and execute the cells in this notebook.\n",
    "<br>\n",
    "<br>"
   ]
  },
  {
   "cell_type": "markdown",
   "metadata": {},
   "source": [
    "<b>Configure the S3 bucket name and region name for this lesson.</b>\n",
    "\n",
    "- If you don't have an S3 bucket, create it first on S3.\n",
    "- Although we have set the region to us-west-2 as a default value below, you can choose any of the regions that the service is available in."
   ]
  },
  {
   "cell_type": "code",
   "execution_count": 104,
   "metadata": {},
   "outputs": [
    {
     "data": {
      "application/vnd.jupyter.widget-view+json": {
       "model_id": "8987ad4020bb416f988ea839b9d6f6e6",
       "version_major": 2,
       "version_minor": 0
      },
      "text/plain": [
       "Text(value='bike-demo', description='bucket_name', layout=Layout(display='flex', object_fit='scale-down', widt…"
      ]
     },
     "metadata": {},
     "output_type": "display_data"
    },
    {
     "data": {
      "application/vnd.jupyter.widget-view+json": {
       "model_id": "a61c83ac2c5c4cebb4d65016d5c49b81",
       "version_major": 2,
       "version_minor": 0
      },
      "text/plain": [
       "Text(value='us-west-2', description='region', layout=Layout(display='flex', object_fit='scale-down', width='au…"
      ]
     },
     "metadata": {},
     "output_type": "display_data"
    }
   ],
   "source": [
    "\n",
    "# text_widget_bucket = util.create_text_widget( \"bucket_name\", \"input your S3 bucket name\"\n",
    "#                                              , default_value=\"bike-demo\" )\n",
    "# text_widget_region = util.create_text_widget( \"region\", \"input region name.\"\n",
    "#                                              , default_value=\"us-west-2\" )\n",
    "\n",
    "# TODO delete this and put above back\n",
    "text_widget_bucket = create_text_widget( \"bucket_name\", \"input your S3 bucket name\"\n",
    "                                             , default_value=\"bike-demo\" )\n",
    "text_widget_region = create_text_widget( \"region\", \"input region name.\"\n",
    "                                             , default_value=\"us-west-2\" )"
   ]
  },
  {
   "cell_type": "code",
   "execution_count": 5,
   "metadata": {},
   "outputs": [
    {
     "name": "stdout",
     "output_type": "stream",
     "text": [
      "bucket = bike-demo\n",
      "REGION = us-west-2\n"
     ]
    }
   ],
   "source": [
    "BUCKET_NAME = text_widget_bucket.value\n",
    "print(f\"bucket = {BUCKET_NAME}\")\n",
    "assert BUCKET_NAME, \"bucket_name not set.\"\n",
    "\n",
    "REGION = text_widget_region.value\n",
    "print(f\"REGION = {REGION}\")\n",
    "assert REGION, \"region not set.\""
   ]
  },
  {
   "cell_type": "code",
   "execution_count": 6,
   "metadata": {},
   "outputs": [],
   "source": [
    "# S3 bucket settings\n",
    "s3 = boto3.client('s3')\n",
    "s3_resource = boto3.resource('s3')"
   ]
  },
  {
   "cell_type": "markdown",
   "metadata": {},
   "source": [
    "The next part of the setup process is to validate that your account can communicate with Amazon Forecast, the cell below does just that."
   ]
  },
  {
   "cell_type": "code",
   "execution_count": 7,
   "metadata": {},
   "outputs": [],
   "source": [
    "# Initialize forecast session\n",
    "session = boto3.Session(region_name=REGION) \n",
    "forecast = session.client(service_name='forecast') #Amazon Forecast Service api session\n",
    "forecastquery = session.client(service_name='forecastquery') #Amazon Forecast Query api session\n"
   ]
  },
  {
   "cell_type": "markdown",
   "metadata": {},
   "source": [
    "The last part of the setup process is to create an AWS Role with Forecast and S3 permissions"
   ]
  },
  {
   "cell_type": "code",
   "execution_count": 8,
   "metadata": {},
   "outputs": [
    {
     "name": "stdout",
     "output_type": "stream",
     "text": [
      "Success! Created role arn = arn:aws:iam::938097332257:role/service-role/AmazonSageMaker-ExecutionRole-20180404T164990\n"
     ]
    }
   ],
   "source": [
    "# # Create the role to provide to Amazon Forecast.\n",
    "role_name = \"ForecastNotebookRole-ItemLevelAccuracy\"\n",
    "print(f\"Creating Role {role_name} ...\")\n",
    "role_arn = util.get_or_create_iam_role( role_name = role_name )\n",
    "\n",
    "\n",
    "# # TODO delete this if not running on Sagemaker, and put above back\n",
    "# import sagemaker\n",
    "# from sagemaker import get_execution_role\n",
    "# role_arn = get_execution_role()            ## Run this before the training job to get your IAM role\n",
    "\n",
    "print(f\"Success! Created role arn = {role_arn}\")"
   ]
  },
  {
   "cell_type": "markdown",
   "metadata": {},
   "source": [
    "### Export predictor backtests <a class=\"anchor\" id=\"export\"></a>\n",
    "\n",
    "\"Backtesting\" is a cross-validation technique for time series that uses multiple train/test splits that keep time order of the data.  Using multiple train-test splits (i.e. more than 1 backtest window) will result in more models being trained, and in turn, a more robust estimate how the model (chosen algorithm and hyperameters) will perform on unseen data.\n",
    "<a href=\"https://docs.aws.amazon.com/forecast/latest/dg/metrics.html#backtesting, target='_blank' \">More details on the Amazon Forecast documentation page.</a>\n",
    "\n",
    "In the next few cells, we ask for your Predictor arn and S3 location where to write the backtest export files."
   ]
  },
  {
   "cell_type": "code",
   "execution_count": 102,
   "metadata": {},
   "outputs": [
    {
     "data": {
      "application/vnd.jupyter.widget-view+json": {
       "model_id": "cf954cbdf42a4bde94cf1967258d2e12",
       "version_major": 2,
       "version_minor": 0
      },
      "text/plain": [
       "Text(value='arn:aws:forecast:us-west-2:123456789012:predictor/bike_demo_auto', description='predictor_arn', la…"
      ]
     },
     "metadata": {},
     "output_type": "display_data"
    },
    {
     "data": {
      "application/vnd.jupyter.widget-view+json": {
       "model_id": "33ee06d489f448008a15b6266e28ed01",
       "version_major": 2,
       "version_minor": 0
      },
      "text/plain": [
       "Text(value='s3://bike-demo/forecasts/bike_demo_auto/', description='export_path', layout=Layout(display='flex'…"
      ]
     },
     "metadata": {},
     "output_type": "display_data"
    }
   ],
   "source": [
    "# text_widget_predictor_arn = util.create_text_widget( \"predictor_arn\", \"input your Forecast Predictor arn\"\n",
    "#                     , default_value=\"arn:aws:forecast:us-west-2:123456789012:predictor/bike_demo_auto\")\n",
    "# text_widget_export_path = util.create_text_widget( \"export_path\", \"input export path\"\n",
    "#                     , default_value=\"s3://bike-demo/forecasts/\" )\n",
    "\n",
    "# TODO delete this and put above back\n",
    "text_widget_predictor_arn = create_text_widget( \"predictor_arn\", \"input your Forecast Predictor arn\"\n",
    "                    , default_value=\"arn:aws:forecast:us-west-2:123456789012:predictor/bike_demo_auto\")\n",
    "\n",
    "text_widget_export_path = create_text_widget( \"export_path\", \"input export path\"\n",
    "                    , default_value=\"s3://bike-demo/forecasts/bike_demo_auto/\" )"
   ]
  },
  {
   "cell_type": "code",
   "execution_count": null,
   "metadata": {},
   "outputs": [],
   "source": [
    "\n",
    "## echo user inputs\n",
    "\n",
    "predictor_arn = text_widget_predictor_arn.value\n",
    "print(f\"Predictor arn = {predictor_arn}\")\n",
    "assert predictor_arn, \"predictor_arn not set.\"\n",
    "\n",
    "export_path = text_widget_export_path.value\n",
    "print(f\"Export_path = {export_path}\")\n",
    "assert export_path, \"export_path not set.\""
   ]
  },
  {
   "cell_type": "markdown",
   "metadata": {},
   "source": [
    "<br>\n",
    "In the next few cells, we ask Amazon Forecast to export the Predictor backtest window forecasts via API.  The same could be done by <a href=\"https://aws.amazon.com/blogs/machine-learning/measuring-forecast-model-accuracy-to-optimize-your-business-objectives-with-amazon-forecast/, target='_blank' \">clicking the \"Export backtest results\" button on the Predictor page, as shown in the blog.</a>\n",
    "<br>\n",
    "<br>"
   ]
  },
  {
   "cell_type": "code",
   "execution_count": null,
   "metadata": {},
   "outputs": [],
   "source": [
    "\n",
    "## Call CreatePredictorBacktestExportJob using predictor Arn and S3 export path\n",
    "\n",
    "backtestExportJobName = 'bike_demo_v_forecasts'\n",
    "backtest_export_job_response =forecast.create_predictor_backtest_export_job(PredictorBacktestExportJobName=backtestExportJobName,\n",
    "                                                          PredictorArn=predictor_arn,\n",
    "                                                          Destination= {\n",
    "                                                              \"S3Config\" : {\n",
    "                                                                 \"Path\":export_path,\n",
    "                                                                 \"RoleArn\": role_arn\n",
    "                                                              } \n",
    "                                                          })"
   ]
  },
  {
   "cell_type": "code",
   "execution_count": null,
   "metadata": {},
   "outputs": [],
   "source": [
    "\n",
    "# check for HTTP status 200\n",
    "\n",
    "backtest_export_job_response"
   ]
  },
  {
   "cell_type": "code",
   "execution_count": null,
   "metadata": {},
   "outputs": [],
   "source": [
    "\n",
    "## CHECK STATUS OF YOUR EXPORT JOB - BACKTEST FORECASTS\n",
    "\n",
    "# status_indicator = util.StatusIndicator()\n",
    "# TODO delete this and put above back\n",
    "status_indicator = StatusIndicator()\n",
    "\n",
    "while True:\n",
    "    status = forecast.describe_predictor_backtest_export_job(PredictorBacktestExportJobArn = \\\n",
    "                        backtest_export_job_response['PredictorBacktestExportJobArn'])['Status']\n",
    "    status_indicator.update(status)\n",
    "    if status in ('ACTIVE', 'CREATE_FAILED'): break\n",
    "    time.sleep(10)\n",
    "\n",
    "status_indicator.end()"
   ]
  },
  {
   "cell_type": "markdown",
   "metadata": {},
   "source": [
    "## Assemble and read predictor backtest files <a class=\"anchor\" id=\"read\"></a>\n",
    "\n",
    "After Forecast Predictor Backtest Export step finishes, you will have a number of .part files within 2 separate folders.  The cell below concatenates all the .part files per folder into a single .csv file which can be saved to an S3 location of your choice. <br>\n",
    "\n",
    "Make sure to change each section below with <b><i>your S3 locations</i></b>.\n",
    "<br>"
   ]
  },
  {
   "cell_type": "code",
   "execution_count": null,
   "metadata": {},
   "outputs": [],
   "source": [
    "# TODO:  Windows and user input box\n",
    "\n",
    "# ################\n",
    "# # REPLACE file names below and re-run for each export file\n",
    "temp_file = \"bike_backtest_accuracies.csv\"\n",
    "to_file_accuracies = f\"{export_path}{temp_file}\"\n",
    "# ################\n",
    "\n",
    "from_files = f\"{export_path}accuracy-metrics-values/\"\n",
    "\n",
    "# copy part files locally\n",
    "!mkdir -p tempfcst\n",
    "!rm -rf tempfcst/*\n",
    "!aws s3 cp $from_files tempfcst/ --recursive --include \"*.csv\"\n",
    "    \n",
    "# Concat .csv part files locally\n",
    "!touch $temp_file\n",
    "!cat tempfcst/*csv > $temp_file\n",
    "\n",
    "# copy concatted local .csv file back to S3\n",
    "!aws s3 cp $temp_file $to_file_accuracies\n"
   ]
  },
  {
   "cell_type": "code",
   "execution_count": null,
   "metadata": {},
   "outputs": [],
   "source": [
    "# TODO update this to also show Windows usage\n",
    "\n",
    "#################\n",
    "# # REPLACE file names below and re-run for each export file\n",
    "temp_file = \"bike_backtest_forecasts.csv\"\n",
    "to_file_forecasts = f\"{export_path}{temp_file}\"\n",
    "#################\n",
    "\n",
    "from_files = f\"{export_path}forecasted-values/\"\n",
    "\n",
    "# copy part files locally\n",
    "!mkdir -p tempfcst\n",
    "!rm -rf tempfcst/*\n",
    "!aws s3 cp $from_files tempfcst/ --recursive --include \"*.csv\"\n",
    "    \n",
    "# Concat .csv part files locally\n",
    "!touch $temp_file\n",
    "!cat tempfcst/*csv > $temp_file\n",
    "\n",
    "# copy concatted local .csv file back to S3\n",
    "!aws s3 cp $temp_file $to_file_forecasts"
   ]
  },
  {
   "cell_type": "code",
   "execution_count": 15,
   "metadata": {},
   "outputs": [
    {
     "name": "stdout",
     "output_type": "stream",
     "text": [
      "(29, 9)\n",
      "(18, 9)\n",
      "Num items: 3\n",
      "Backtest Window Start Dates\n",
      "['2014-12-27T01:00:00.000000000' '2014-12-28T01:00:00.000000000'\n",
      " '2014-12-31T01:00:00.000000000' '2014-12-29T01:00:00.000000000'\n",
      " '2014-12-30T01:00:00.000000000']\n",
      "item_id                              object\n",
      "backtest_window                      object\n",
      "backtestwindow_start_time    datetime64[ns]\n",
      "backtestwindow_end_time      datetime64[ns]\n",
      "wQL[0.5]                             object\n",
      "wQL[0.65]                            object\n",
      "wQL[0.9]                             object\n",
      "RMSE                                 object\n",
      "WAPE                                 object\n",
      "dtype: object\n"
     ]
    },
    {
     "data": {
      "text/html": [
       "<div>\n",
       "<style scoped>\n",
       "    .dataframe tbody tr th:only-of-type {\n",
       "        vertical-align: middle;\n",
       "    }\n",
       "\n",
       "    .dataframe tbody tr th {\n",
       "        vertical-align: top;\n",
       "    }\n",
       "\n",
       "    .dataframe thead th {\n",
       "        text-align: right;\n",
       "    }\n",
       "</style>\n",
       "<table border=\"1\" class=\"dataframe\">\n",
       "  <thead>\n",
       "    <tr style=\"text-align: right;\">\n",
       "      <th></th>\n",
       "      <th>item_id</th>\n",
       "      <th>backtest_window</th>\n",
       "      <th>backtestwindow_start_time</th>\n",
       "      <th>backtestwindow_end_time</th>\n",
       "      <th>wQL[0.5]</th>\n",
       "      <th>wQL[0.65]</th>\n",
       "      <th>wQL[0.9]</th>\n",
       "      <th>RMSE</th>\n",
       "      <th>WAPE</th>\n",
       "    </tr>\n",
       "  </thead>\n",
       "  <tbody>\n",
       "    <tr>\n",
       "      <th>24</th>\n",
       "      <td>client_111</td>\n",
       "      <td>Computed</td>\n",
       "      <td>2014-12-27 01:00:00</td>\n",
       "      <td>2014-12-28</td>\n",
       "      <td>0.07261954463723377</td>\n",
       "      <td>0.06861061929379617</td>\n",
       "      <td>0.03634090644431004</td>\n",
       "      <td>6.469199359120584</td>\n",
       "      <td>109.27123298339998</td>\n",
       "    </tr>\n",
       "    <tr>\n",
       "      <th>9</th>\n",
       "      <td>client_10</td>\n",
       "      <td>Summary</td>\n",
       "      <td>2014-12-27 01:00:00</td>\n",
       "      <td>2015-01-01</td>\n",
       "      <td>0.10732752601195328</td>\n",
       "      <td>0.0980505616756353</td>\n",
       "      <td>0.041914497752476125</td>\n",
       "      <td>6.028563576957028</td>\n",
       "      <td>115.78550702765999</td>\n",
       "    </tr>\n",
       "    <tr>\n",
       "      <th>1</th>\n",
       "      <td>client_10</td>\n",
       "      <td>Computed</td>\n",
       "      <td>2014-12-27 01:00:00</td>\n",
       "      <td>2014-12-28</td>\n",
       "      <td>0.12507086221343364</td>\n",
       "      <td>0.10894546270314508</td>\n",
       "      <td>0.05274300169935037</td>\n",
       "      <td>6.327971368996554</td>\n",
       "      <td>128.15731649179997</td>\n",
       "    </tr>\n",
       "    <tr>\n",
       "      <th>16</th>\n",
       "      <td>client_111</td>\n",
       "      <td>Summary</td>\n",
       "      <td>2014-12-27 01:00:00</td>\n",
       "      <td>2015-01-01</td>\n",
       "      <td>0.13118639389214914</td>\n",
       "      <td>0.1317612467165388</td>\n",
       "      <td>0.08130727761463939</td>\n",
       "      <td>11.319149910356803</td>\n",
       "      <td>223.26435902459997</td>\n",
       "    </tr>\n",
       "    <tr>\n",
       "      <th>3</th>\n",
       "      <td>client_10</td>\n",
       "      <td>Computed</td>\n",
       "      <td>2014-12-28 01:00:00</td>\n",
       "      <td>2014-12-29</td>\n",
       "      <td>0.10778005790777491</td>\n",
       "      <td>0.09606448525949769</td>\n",
       "      <td>0.0430377246959008</td>\n",
       "      <td>5.289665428791694</td>\n",
       "      <td>102.98160573129998</td>\n",
       "    </tr>\n",
       "  </tbody>\n",
       "</table>\n",
       "</div>"
      ],
      "text/plain": [
       "       item_id backtest_window backtestwindow_start_time backtestwindow_end_time             wQL[0.5]            wQL[0.65]              wQL[0.9]                RMSE                WAPE\n",
       "24  client_111        Computed       2014-12-27 01:00:00              2014-12-28  0.07261954463723377  0.06861061929379617   0.03634090644431004   6.469199359120584  109.27123298339998\n",
       "9    client_10         Summary       2014-12-27 01:00:00              2015-01-01  0.10732752601195328   0.0980505616756353  0.041914497752476125   6.028563576957028  115.78550702765999\n",
       "1    client_10        Computed       2014-12-27 01:00:00              2014-12-28  0.12507086221343364  0.10894546270314508   0.05274300169935037   6.327971368996554  128.15731649179997\n",
       "16  client_111         Summary       2014-12-27 01:00:00              2015-01-01  0.13118639389214914   0.1317612467165388   0.08130727761463939  11.319149910356803  223.26435902459997\n",
       "3    client_10        Computed       2014-12-28 01:00:00              2014-12-29  0.10778005790777491  0.09606448525949769    0.0430377246959008   5.289665428791694  102.98160573129998"
      ]
     },
     "execution_count": 15,
     "metadata": {},
     "output_type": "execute_result"
    }
   ],
   "source": [
    "\n",
    "## READ THE ACCURACIES FILE\n",
    "\n",
    "accuracy_df = pd.read_csv(to_file_accuracies)\n",
    "\n",
    "# keep only data rows\n",
    "print(accuracy_df.shape)\n",
    "accuracy_df = accuracy_df.loc[(accuracy_df.backtestwindow_start_time != \"backtestwindow_start_time\"), :].copy()\n",
    "print(accuracy_df.shape)\n",
    "\n",
    "# correct data types\n",
    "accuracy_df['backtestwindow_start_time'] = pd.to_datetime(accuracy_df['backtestwindow_start_time']\n",
    "                                                 , format=\"%Y-%m-%dT%H:%M:%S\", errors='coerce')\n",
    "accuracy_df['backtestwindow_end_time'] = pd.to_datetime(accuracy_df['backtestwindow_end_time']\n",
    "                                                 , format=\"%Y-%m-%dT%H:%M:%S\", errors='coerce')\n",
    "# convert UTC timestamp to timezone unaware\n",
    "accuracy_df['backtestwindow_start_time'] = accuracy_df.backtestwindow_start_time.dt.tz_localize(None)\n",
    "accuracy_df['backtestwindow_end_time'] = accuracy_df.backtestwindow_end_time.dt.tz_localize(None)\n",
    "\n",
    "# check\n",
    "num_items = len(accuracy_df['item_id'].value_counts(normalize=True, dropna=False))\n",
    "print(f\"Num items: {num_items}\")\n",
    "print(\"Backtest Window Start Dates\")\n",
    "print(accuracy_df.backtestwindow_start_time.unique())\n",
    "\n",
    "print(accuracy_df.dtypes)\n",
    "accuracy_df.sample(5)"
   ]
  },
  {
   "cell_type": "code",
   "execution_count": 16,
   "metadata": {},
   "outputs": [
    {
     "name": "stdout",
     "output_type": "stream",
     "text": [
      "Num items: 3\n",
      "\n",
      "Backtest Window Start Dates\n",
      "['2014-12-27T01:00:00.000000000' '2014-12-28T01:00:00.000000000'\n",
      " '2014-12-29T01:00:00.000000000' '2014-12-30T01:00:00.000000000'\n",
      " '2014-12-31T01:00:00.000000000']\n",
      "item_id                              object\n",
      "timestamp                    datetime64[ns]\n",
      "target_value                        float64\n",
      "backtestwindow_start_time    datetime64[ns]\n",
      "backtestwindow_end_time      datetime64[ns]\n",
      "p50                                 float64\n",
      "p65                                 float64\n",
      "p90                                 float64\n",
      "dtype: object\n"
     ]
    },
    {
     "data": {
      "text/html": [
       "<div>\n",
       "<style scoped>\n",
       "    .dataframe tbody tr th:only-of-type {\n",
       "        vertical-align: middle;\n",
       "    }\n",
       "\n",
       "    .dataframe tbody tr th {\n",
       "        vertical-align: top;\n",
       "    }\n",
       "\n",
       "    .dataframe thead th {\n",
       "        text-align: right;\n",
       "    }\n",
       "</style>\n",
       "<table border=\"1\" class=\"dataframe\">\n",
       "  <thead>\n",
       "    <tr style=\"text-align: right;\">\n",
       "      <th></th>\n",
       "      <th>item_id</th>\n",
       "      <th>timestamp</th>\n",
       "      <th>target_value</th>\n",
       "      <th>backtestwindow_start_time</th>\n",
       "      <th>backtestwindow_end_time</th>\n",
       "      <th>p50</th>\n",
       "      <th>p65</th>\n",
       "      <th>p90</th>\n",
       "    </tr>\n",
       "  </thead>\n",
       "  <tbody>\n",
       "    <tr>\n",
       "      <th>341</th>\n",
       "      <td>client_10</td>\n",
       "      <td>2014-12-31 18:00:00</td>\n",
       "      <td>58.49480</td>\n",
       "      <td>2014-12-31 01:00:00</td>\n",
       "      <td>2015-01-01</td>\n",
       "      <td>48.09034</td>\n",
       "      <td>50.66691</td>\n",
       "      <td>58.54222</td>\n",
       "    </tr>\n",
       "    <tr>\n",
       "      <th>31</th>\n",
       "      <td>client_12</td>\n",
       "      <td>2014-12-27 11:00:00</td>\n",
       "      <td>38.76450</td>\n",
       "      <td>2014-12-27 01:00:00</td>\n",
       "      <td>2014-12-28</td>\n",
       "      <td>29.21275</td>\n",
       "      <td>30.88325</td>\n",
       "      <td>36.66723</td>\n",
       "    </tr>\n",
       "    <tr>\n",
       "      <th>298</th>\n",
       "      <td>client_12</td>\n",
       "      <td>2014-12-31 04:00:00</td>\n",
       "      <td>40.00830</td>\n",
       "      <td>2014-12-31 01:00:00</td>\n",
       "      <td>2015-01-01</td>\n",
       "      <td>39.59725</td>\n",
       "      <td>41.22138</td>\n",
       "      <td>45.63118</td>\n",
       "    </tr>\n",
       "    <tr>\n",
       "      <th>135</th>\n",
       "      <td>client_111</td>\n",
       "      <td>2014-12-28 22:00:00</td>\n",
       "      <td>68.25530</td>\n",
       "      <td>2014-12-28 01:00:00</td>\n",
       "      <td>2014-12-29</td>\n",
       "      <td>54.85074</td>\n",
       "      <td>57.46194</td>\n",
       "      <td>62.53501</td>\n",
       "    </tr>\n",
       "    <tr>\n",
       "      <th>312</th>\n",
       "      <td>client_111</td>\n",
       "      <td>2014-12-31 09:00:00</td>\n",
       "      <td>85.21810</td>\n",
       "      <td>2014-12-31 01:00:00</td>\n",
       "      <td>2015-01-01</td>\n",
       "      <td>74.33857</td>\n",
       "      <td>78.69698</td>\n",
       "      <td>90.02665</td>\n",
       "    </tr>\n",
       "  </tbody>\n",
       "</table>\n",
       "</div>"
      ],
      "text/plain": [
       "        item_id           timestamp  target_value backtestwindow_start_time backtestwindow_end_time      p50      p65      p90\n",
       "341   client_10 2014-12-31 18:00:00      58.49480       2014-12-31 01:00:00              2015-01-01 48.09034 50.66691 58.54222\n",
       "31    client_12 2014-12-27 11:00:00      38.76450       2014-12-27 01:00:00              2014-12-28 29.21275 30.88325 36.66723\n",
       "298   client_12 2014-12-31 04:00:00      40.00830       2014-12-31 01:00:00              2015-01-01 39.59725 41.22138 45.63118\n",
       "135  client_111 2014-12-28 22:00:00      68.25530       2014-12-28 01:00:00              2014-12-29 54.85074 57.46194 62.53501\n",
       "312  client_111 2014-12-31 09:00:00      85.21810       2014-12-31 01:00:00              2015-01-01 74.33857 78.69698 90.02665"
      ]
     },
     "execution_count": 16,
     "metadata": {},
     "output_type": "execute_result"
    }
   ],
   "source": [
    "\n",
    "## READ THE FORECASTS FILE\n",
    "\n",
    "df = pd.read_csv(to_file_forecasts)\n",
    "\n",
    "# correct data types\n",
    "df.item_id = df.item_id.astype(str)\n",
    "df.target_value = pd.to_numeric(df.target_value, errors='coerce')\n",
    "df.timestamp = pd.to_datetime(df.timestamp\n",
    "                                                 , format=\"%Y-%m-%dT%H:%M:%S\", errors='coerce')\n",
    "df['backtestwindow_start_time'] = pd.to_datetime(df['backtestwindow_start_time']\n",
    "                                                 , format=\"%Y-%m-%dT%H:%M:%S\", errors='coerce')\n",
    "df['backtestwindow_end_time'] = pd.to_datetime(df['backtestwindow_end_time']\n",
    "                                                 , format=\"%Y-%m-%dT%H:%M:%S\", errors='coerce')\n",
    "# convert UTC timestamp to timezone unaware\n",
    "df.timestamp = df.timestamp.dt.tz_localize(None)\n",
    "\n",
    "# check\n",
    "num_items = len(df['item_id'].value_counts(normalize=True, dropna=False))\n",
    "print(f\"Num items: {num_items}\")\n",
    "print()\n",
    "print(\"Backtest Window Start Dates\")\n",
    "print(df.backtestwindow_start_time.unique())\n",
    "\n",
    "print(df.dtypes)\n",
    "df.sample(5)"
   ]
  },
  {
   "cell_type": "markdown",
   "metadata": {},
   "source": [
    "## Example using the item-level forecast files\n",
    "\n",
    "The rest of this notebook will focus on how to use the item-level forecasts from the Predictor backtest windows. \n",
    "\n",
    "<br>"
   ]
  },
  {
   "cell_type": "markdown",
   "metadata": {},
   "source": [
    "## Get quantile columns"
   ]
  },
  {
   "cell_type": "code",
   "execution_count": 17,
   "metadata": {},
   "outputs": [],
   "source": [
    "# Map column names in your data to expected key words\n",
    "item_id = \"item_id\"\n",
    "target_value = \"target_value\"\n",
    "timestamp = \"timestamp\"\n",
    "location_id = \"item_id\""
   ]
  },
  {
   "cell_type": "code",
   "execution_count": 18,
   "metadata": {},
   "outputs": [
    {
     "name": "stdout",
     "output_type": "stream",
     "text": [
      "num quantiles: 3\n"
     ]
    },
    {
     "data": {
      "text/plain": [
       "['p50', 'p65', 'p90']"
      ]
     },
     "execution_count": 18,
     "metadata": {},
     "output_type": "execute_result"
    }
   ],
   "source": [
    "# target = \"target_value\"\n",
    "# set predictor dimensions from forecast df\n",
    "predictor_cols = ['item_id', 'timestamp', 'rest_no', 'backtestwindow_start_time', 'backtestwindow_end_time']\n",
    "# exclude cols to automatically find quantiles\n",
    "exclude_cols = predictor_cols.copy()\n",
    "exclude_cols.append(target_value)\n",
    "\n",
    "# get quantile columns from forecast dataframe\n",
    "quantile_cols = [c for c in df.columns if c not in exclude_cols] \n",
    "num_quantiles = len(quantile_cols)\n",
    "print(f\"num quantiles: {num_quantiles}\")\n",
    "quantile_cols"
   ]
  },
  {
   "cell_type": "code",
   "execution_count": 19,
   "metadata": {},
   "outputs": [
    {
     "name": "stdout",
     "output_type": "stream",
     "text": [
      "item_id                              object\n",
      "timestamp                    datetime64[ns]\n",
      "target_value                        float64\n",
      "backtestwindow_start_time    datetime64[ns]\n",
      "backtestwindow_end_time      datetime64[ns]\n",
      "p50                                 float64\n",
      "p65                                 float64\n",
      "p90                                 float64\n",
      "dtype: object\n"
     ]
    },
    {
     "data": {
      "text/html": [
       "<div>\n",
       "<style scoped>\n",
       "    .dataframe tbody tr th:only-of-type {\n",
       "        vertical-align: middle;\n",
       "    }\n",
       "\n",
       "    .dataframe tbody tr th {\n",
       "        vertical-align: top;\n",
       "    }\n",
       "\n",
       "    .dataframe thead th {\n",
       "        text-align: right;\n",
       "    }\n",
       "</style>\n",
       "<table border=\"1\" class=\"dataframe\">\n",
       "  <thead>\n",
       "    <tr style=\"text-align: right;\">\n",
       "      <th></th>\n",
       "      <th>item_id</th>\n",
       "      <th>timestamp</th>\n",
       "      <th>target_value</th>\n",
       "      <th>backtestwindow_start_time</th>\n",
       "      <th>backtestwindow_end_time</th>\n",
       "      <th>p50</th>\n",
       "      <th>p65</th>\n",
       "      <th>p90</th>\n",
       "    </tr>\n",
       "  </thead>\n",
       "  <tbody>\n",
       "    <tr>\n",
       "      <th>121</th>\n",
       "      <td>client_12</td>\n",
       "      <td>2014-12-28 17:00:00</td>\n",
       "      <td>32.96020</td>\n",
       "      <td>2014-12-28 01:00:00</td>\n",
       "      <td>2014-12-29</td>\n",
       "      <td>24.69361</td>\n",
       "      <td>25.85997</td>\n",
       "      <td>30.49856</td>\n",
       "    </tr>\n",
       "    <tr>\n",
       "      <th>220</th>\n",
       "      <td>client_12</td>\n",
       "      <td>2014-12-30 02:00:00</td>\n",
       "      <td>40.42290</td>\n",
       "      <td>2014-12-30 01:00:00</td>\n",
       "      <td>2014-12-31</td>\n",
       "      <td>41.39289</td>\n",
       "      <td>42.40279</td>\n",
       "      <td>45.69267</td>\n",
       "    </tr>\n",
       "    <tr>\n",
       "      <th>188</th>\n",
       "      <td>client_10</td>\n",
       "      <td>2014-12-29 15:00:00</td>\n",
       "      <td>36.88520</td>\n",
       "      <td>2014-12-29 01:00:00</td>\n",
       "      <td>2014-12-30</td>\n",
       "      <td>38.95229</td>\n",
       "      <td>40.65892</td>\n",
       "      <td>44.80900</td>\n",
       "    </tr>\n",
       "    <tr>\n",
       "      <th>160</th>\n",
       "      <td>client_12</td>\n",
       "      <td>2014-12-29 06:00:00</td>\n",
       "      <td>34.61860</td>\n",
       "      <td>2014-12-29 01:00:00</td>\n",
       "      <td>2014-12-30</td>\n",
       "      <td>34.72971</td>\n",
       "      <td>35.96741</td>\n",
       "      <td>40.92572</td>\n",
       "    </tr>\n",
       "    <tr>\n",
       "      <th>193</th>\n",
       "      <td>client_12</td>\n",
       "      <td>2014-12-29 17:00:00</td>\n",
       "      <td>83.54060</td>\n",
       "      <td>2014-12-29 01:00:00</td>\n",
       "      <td>2014-12-30</td>\n",
       "      <td>67.39693</td>\n",
       "      <td>71.85516</td>\n",
       "      <td>90.09580</td>\n",
       "    </tr>\n",
       "  </tbody>\n",
       "</table>\n",
       "</div>"
      ],
      "text/plain": [
       "       item_id           timestamp  target_value backtestwindow_start_time backtestwindow_end_time      p50      p65      p90\n",
       "121  client_12 2014-12-28 17:00:00      32.96020       2014-12-28 01:00:00              2014-12-29 24.69361 25.85997 30.49856\n",
       "220  client_12 2014-12-30 02:00:00      40.42290       2014-12-30 01:00:00              2014-12-31 41.39289 42.40279 45.69267\n",
       "188  client_10 2014-12-29 15:00:00      36.88520       2014-12-29 01:00:00              2014-12-30 38.95229 40.65892 44.80900\n",
       "160  client_12 2014-12-29 06:00:00      34.61860       2014-12-29 01:00:00              2014-12-30 34.72971 35.96741 40.92572\n",
       "193  client_12 2014-12-29 17:00:00      83.54060       2014-12-29 01:00:00              2014-12-30 67.39693 71.85516 90.09580"
      ]
     },
     "execution_count": 19,
     "metadata": {},
     "output_type": "execute_result"
    }
   ],
   "source": [
    "# correct data types\n",
    "for q in quantile_cols:\n",
    "    df[q] = pd.to_numeric(df[q], errors='coerce')\n",
    "\n",
    "print(df.dtypes)\n",
    "df.sample(5)"
   ]
  },
  {
   "cell_type": "markdown",
   "metadata": {},
   "source": [
    "### Before calling error calcs, truncate negative actuals and predictions to 0\n",
    "If you are not expecting negatives, such as for counts"
   ]
  },
  {
   "cell_type": "code",
   "execution_count": null,
   "metadata": {},
   "outputs": [],
   "source": [
    "#################\n",
    "# Change this value to False if you intend to keep negative actuals and predictions\n",
    "REPLACE_NEG_PREDICTIONS = True\n",
    "#################\n",
    "\n"
   ]
  },
  {
   "cell_type": "code",
   "execution_count": null,
   "metadata": {},
   "outputs": [],
   "source": [
    "# Before calling error calcs, truncate negative actuals and predictions to 0\n",
    "\n",
    "# truncate negative predictions \n",
    "if REPLACE_NEG_PREDICTIONS:\n",
    "    for q in quantile_cols:\n",
    "        num_neg_predictions = df[q].lt(0).sum()\n",
    "        print(f\"Num negative {q} predictors: {num_neg_predictions}\")\n",
    "        \n",
    "        # replace\n",
    "        df[q] = df[q].mask(df[q] < 0, 0)\n",
    "        \n",
    "        # check you did the right thing\n",
    "        num_neg_predictions = df[q].lt(0).sum()\n",
    "        print(f\"Num negative {q} predictors: {num_neg_predictions}\")\n",
    "        \n",
    "        \n",
    "# truncate negative actuals\n",
    "if REPLACE_NEG_PREDICTIONS:\n",
    "    num_neg_actuals = df[target_value].lt(0).sum()\n",
    "    print(f\"Num negative actuals: {num_neg_actuals}\")\n",
    "\n",
    "    # replace\n",
    "    df[target_value] = df[target_value].mask(df[target_value] < 0, 0)\n",
    "\n",
    "    # check you did the right thing\n",
    "    num_neg_actuals = df[target_value].lt(0).sum()\n",
    "    print(f\"Num negative actuals: {num_neg_actuals}\")"
   ]
  },
  {
   "cell_type": "code",
   "execution_count": null,
   "metadata": {},
   "outputs": [],
   "source": [
    "# Add day of week for convenience\n",
    "df_eligible = df.copy()\n",
    "df_eligible['day_of_week'] = df_eligible.timestamp.dt.day_name()\n",
    "# print(df_eligible.day_of_week.value_counts())\n",
    "\n",
    "# Add window number for convenience\n",
    "windows = df_eligible.backtestwindow_start_time.value_counts().rename_axis('backtestwindow_start_time').reset_index(name='count')\n",
    "windows.sort_values('backtestwindow_start_time', inplace=True)\n",
    "windows.reset_index(inplace=True, drop=True)\n",
    "windows.drop('count', axis=1, inplace=True)\n",
    "windows['window'] = windows.index + 1\n",
    "\n",
    "print(df_eligible.shape)\n",
    "df_eligible = df_eligible.merge(windows, how=\"left\", on=\"backtestwindow_start_time\")\n",
    "print(df_eligible.shape)\n",
    "\n",
    "df_eligible.sample(5)"
   ]
  },
  {
   "cell_type": "markdown",
   "metadata": {},
   "source": [
    "## Demo item-level accuracy <a class=\"anchor\" id=\"setup\"></a>\n",
    "\n",
    "<ul>\n",
    "    <li>First, we'll segment the items into \"fast\" and \"slow\" categories, depending on how much demand they have. </li>\n",
    "    <li>Then we'll calculate 2 custom accuracy metrics for each group of items.</li>  \n",
    "    <li>Then we'll show the \"standard\" metrics for comparison.</li>\n",
    "    <li>Finally, we'll do some visualizations of item demand actuals and forecasts.</li>\n",
    "    </ul>"
   ]
  },
  {
   "cell_type": "markdown",
   "metadata": {},
   "source": [
    "#### Get \"fast\" vs \"slow\" items"
   ]
  },
  {
   "cell_type": "code",
   "execution_count": 128,
   "metadata": {},
   "outputs": [
    {
     "name": "stdout",
     "output_type": "stream",
     "text": [
      "average velocity of all items: 277.9151930555556\n",
      "slow   0.66667\n",
      "fast   0.33333\n",
      "Name: velocity, dtype: float64\n"
     ]
    },
    {
     "data": {
      "text/html": [
       "<div>\n",
       "<style scoped>\n",
       "    .dataframe tbody tr th:only-of-type {\n",
       "        vertical-align: middle;\n",
       "    }\n",
       "\n",
       "    .dataframe tbody tr th {\n",
       "        vertical-align: top;\n",
       "    }\n",
       "\n",
       "    .dataframe thead th {\n",
       "        text-align: right;\n",
       "    }\n",
       "</style>\n",
       "<table border=\"1\" class=\"dataframe\">\n",
       "  <thead>\n",
       "    <tr style=\"text-align: right;\">\n",
       "      <th></th>\n",
       "      <th>item_id</th>\n",
       "      <th>timestamp</th>\n",
       "      <th>target_value</th>\n",
       "      <th>backtestwindow_start_time</th>\n",
       "      <th>backtestwindow_end_time</th>\n",
       "      <th>p50</th>\n",
       "      <th>p65</th>\n",
       "      <th>p90</th>\n",
       "      <th>day_of_week</th>\n",
       "      <th>window</th>\n",
       "      <th>velocity</th>\n",
       "    </tr>\n",
       "  </thead>\n",
       "  <tbody>\n",
       "    <tr>\n",
       "      <th>178</th>\n",
       "      <td>client_12</td>\n",
       "      <td>2014-12-29 12:00:00</td>\n",
       "      <td>106.55060</td>\n",
       "      <td>2014-12-29 01:00:00</td>\n",
       "      <td>2014-12-30</td>\n",
       "      <td>95.22637</td>\n",
       "      <td>105.23910</td>\n",
       "      <td>132.83522</td>\n",
       "      <td>Monday</td>\n",
       "      <td>3</td>\n",
       "      <td>slow</td>\n",
       "    </tr>\n",
       "    <tr>\n",
       "      <th>56</th>\n",
       "      <td>client_10</td>\n",
       "      <td>2014-12-27 19:00:00</td>\n",
       "      <td>62.59310</td>\n",
       "      <td>2014-12-27 01:00:00</td>\n",
       "      <td>2014-12-28</td>\n",
       "      <td>63.69720</td>\n",
       "      <td>66.29573</td>\n",
       "      <td>73.84119</td>\n",
       "      <td>Saturday</td>\n",
       "      <td>1</td>\n",
       "      <td>slow</td>\n",
       "    </tr>\n",
       "    <tr>\n",
       "      <th>300</th>\n",
       "      <td>client_111</td>\n",
       "      <td>2014-12-31 05:00:00</td>\n",
       "      <td>69.46690</td>\n",
       "      <td>2014-12-31 01:00:00</td>\n",
       "      <td>2015-01-01</td>\n",
       "      <td>61.99686</td>\n",
       "      <td>64.69191</td>\n",
       "      <td>71.01192</td>\n",
       "      <td>Wednesday</td>\n",
       "      <td>5</td>\n",
       "      <td>fast</td>\n",
       "    </tr>\n",
       "    <tr>\n",
       "      <th>84</th>\n",
       "      <td>client_111</td>\n",
       "      <td>2014-12-28 05:00:00</td>\n",
       "      <td>52.50400</td>\n",
       "      <td>2014-12-28 01:00:00</td>\n",
       "      <td>2014-12-29</td>\n",
       "      <td>55.94246</td>\n",
       "      <td>57.39629</td>\n",
       "      <td>61.87866</td>\n",
       "      <td>Sunday</td>\n",
       "      <td>2</td>\n",
       "      <td>fast</td>\n",
       "    </tr>\n",
       "    <tr>\n",
       "      <th>278</th>\n",
       "      <td>client_10</td>\n",
       "      <td>2014-12-30 21:00:00</td>\n",
       "      <td>81.22210</td>\n",
       "      <td>2014-12-30 01:00:00</td>\n",
       "      <td>2014-12-31</td>\n",
       "      <td>85.62713</td>\n",
       "      <td>91.22315</td>\n",
       "      <td>103.02980</td>\n",
       "      <td>Tuesday</td>\n",
       "      <td>4</td>\n",
       "      <td>slow</td>\n",
       "    </tr>\n",
       "  </tbody>\n",
       "</table>\n",
       "</div>"
      ],
      "text/plain": [
       "        item_id           timestamp  target_value backtestwindow_start_time backtestwindow_end_time      p50       p65       p90 day_of_week  window velocity\n",
       "178   client_12 2014-12-29 12:00:00     106.55060       2014-12-29 01:00:00              2014-12-30 95.22637 105.23910 132.83522      Monday       3     slow\n",
       "56    client_10 2014-12-27 19:00:00      62.59310       2014-12-27 01:00:00              2014-12-28 63.69720  66.29573  73.84119    Saturday       1     slow\n",
       "300  client_111 2014-12-31 05:00:00      69.46690       2014-12-31 01:00:00              2015-01-01 61.99686  64.69191  71.01192   Wednesday       5     fast\n",
       "84   client_111 2014-12-28 05:00:00      52.50400       2014-12-28 01:00:00              2014-12-29 55.94246  57.39629  61.87866      Sunday       2     fast\n",
       "278   client_10 2014-12-30 21:00:00      81.22210       2014-12-30 01:00:00              2014-12-31 85.62713  91.22315 103.02980     Tuesday       4     slow"
      ]
     },
     "execution_count": 128,
     "metadata": {},
     "output_type": "execute_result"
    }
   ],
   "source": [
    "\n",
    "## CALCULATE DEMAND VELOCITY OF ITEMS\n",
    "\n",
    "# categorize items\n",
    "fast_moving_items, slow_moving_items = get_fast_slow_moving_items_all(df_eligible, timestamp, target_value, item_id)\n",
    "\n",
    "# assign item velocity\n",
    "df_eligible['velocity'] = \"slow\"\n",
    "df_eligible.loc[(df_eligible.item_id.isin(fast_moving_items)), 'velocity'] = 'fast'\n",
    "\n",
    "# checkit\n",
    "print(df_eligible.velocity.value_counts(normalize=True, dropna=False))\n",
    "df_eligible.sample(5)"
   ]
  },
  {
   "cell_type": "code",
   "execution_count": 129,
   "metadata": {},
   "outputs": [
    {
     "name": "stdout",
     "output_type": "stream",
     "text": [
      "number of fast moving items: 1, ratio:0.3333333333333333\n",
      "number of slow moving items: 2, ratio: 0.6666666666666666\n"
     ]
    }
   ],
   "source": [
    "\n",
    "## Display breakdown: how many fast vs slow-moving items\n",
    "\n",
    "total_items_cnt = len(fast_moving_items) + len(slow_moving_items)\n",
    "print(f\"number of fast moving items: {len(fast_moving_items)}, ratio:{len(fast_moving_items) / total_items_cnt}\")\n",
    "\n",
    "print(f\"number of slow moving items: {len(slow_moving_items)}, ratio: {len(slow_moving_items) / total_items_cnt}\")\n"
   ]
  },
  {
   "cell_type": "code",
   "execution_count": 184,
   "metadata": {},
   "outputs": [],
   "source": [
    "# Define custom metrics\n",
    "\n",
    "def custom_mape_per_window(df_w, moving_items, item_id_col\n",
    "                             , target_value_col\n",
    "                             , quantile_col\n",
    "                             , windows_list, selected_items=[]):\n",
    "    \"\"\"Calculates weighted quantile loss per window, quantile, and per subset of items.\n",
    "       Subset of items can be either by \"fast\", \"slow\", or a list of specific items.\n",
    "       Assumes you've already rounded up to zero any negative values.  \n",
    "    \"\"\"\n",
    "    \n",
    "    # only fast or slow items, values from all backtest windows\n",
    "    if len(moving_items) >0:\n",
    "        actuals_sum_w = df_w.loc[(df_w.velocity==moving_items), target_value_col].abs().sum()\n",
    "    # only items from passed items list\n",
    "    else:\n",
    "        actuals_sum_w = df_w.loc[(df_w[item_id_col].isin(selected_items)), target_value_col].abs().sum()\n",
    "\n",
    "    weighted_window_loss_list = []\n",
    "    for w in windows_list:\n",
    "        if len(moving_items) >0:\n",
    "            window_sum_w = df_w.loc[((df_w.velocity==moving_items)\n",
    "                                    & (df_w.window==w)), quantile_col].abs().sum()\n",
    "        else:\n",
    "            window_sum_w = df_w.loc[((df_w[item_id_col].isin(selected_items))\n",
    "                                    & (df_w.window==w)), quantile_col].abs().sum()\n",
    "        \n",
    "        weighted_window_loss_list.append(np.abs(window_sum_w - actuals_sum_w)/actuals_sum_w)\n",
    "        \n",
    "    return weighted_window_loss_list\n",
    "    \n",
    "    \n",
    "# TODO:  Add this MAPE \n",
    "#= (1 / (num_items * num_time_points)) * sum_{i=1 to num_items, t = 1 to num_time_points} |(actual_i,t - forecast_i,t) / actual_i,t|\n",
    "\n",
    "# TODO:  Add 1 more custom Accuracy Metric: log(RMSE), as asked for in Kaggle competition...\n",
    "\n"
   ]
  },
  {
   "cell_type": "code",
   "execution_count": 216,
   "metadata": {},
   "outputs": [
    {
     "name": "stdout",
     "output_type": "stream",
     "text": [
      "fast items:\n",
      "[0.8350221426414537, 0.8386547631923896, 0.8286794722162251, 0.7967417890765928, 0.822783809281329]\n",
      "mean fast wql_p50 over all backtest windows: 0.824376395281598\n",
      "slow items:\n",
      "[0.8300652119845985, 0.853416308990131, 0.7882933273397507, 0.7239619027200972, 0.8025400152490867]\n",
      "mean slow wql_p50 over all backtest windows: 0.799655353256733\n",
      "fast items:\n",
      "[0.8286457911850611, 0.8320227963661483, 0.8215091196727008, 0.7891131132333581, 0.813686021611116]\n",
      "mean fast wql_p65 over all backtest windows: 0.8169953684136768\n",
      "slow items:\n",
      "[0.8224036461097333, 0.8465137259175447, 0.7755347624090985, 0.7035889750208862, 0.7902643374149912]\n",
      "mean slow wql_p65 over all backtest windows: 0.7876610893744507\n",
      "fast items:\n",
      "[0.8095968688650508, 0.813123661508202, 0.8011233271714322, 0.7695110100526421, 0.7880794172562933]\n",
      "mean fast wql_p90 over all backtest windows: 0.796286856970724\n",
      "slow items:\n",
      "[0.7995911086661529, 0.8266623894212247, 0.7413455566915038, 0.654224314653369, 0.7549395651207224]\n",
      "mean slow wql_p90 over all backtest windows: 0.7553525869105946\n"
     ]
    }
   ],
   "source": [
    "\n",
    "### CALCULATE WQL PER BACKTEST WINDOW FOR FAST AND SLOW GROUPS OF ITEMS\n",
    "\n",
    "from collections import defaultdict\n",
    "\n",
    "metrics_by_moving_fast = dict()\n",
    "metrics_by_moving_slow = dict()\n",
    "metrics_fast = []\n",
    "metrics_slow = []\n",
    "\n",
    "for q in quantile_cols:\n",
    "\n",
    "    # Fast items only - Get list of wql per window per quantile\n",
    "    metrics_by_moving_fast[q] = custom_mape_per_window(df_eligible, moving_items=\"fast\"\n",
    "                                                          , item_id_col=item_id\n",
    "                                                          , target_value_col=target_value\n",
    "                                                          , quantile_col=q\n",
    "                                                          , windows_list=list(windows.window))\n",
    "    metrics_fast.append(metrics_by_moving_fast[q])\n",
    "#     print(\"fast items:\")\n",
    "#     print(metrics_by_moving_fast[q])\n",
    "#     print(f\"mean fast wql_{q} over all backtest windows: {np.mean(metrics_by_moving_fast[q])}\")\n",
    "\n",
    "    # Slow items only - Get list of wql per window per quantile\n",
    "    metrics_by_moving_slow[q] = custom_mape_per_window(df_eligible, moving_items=\"slow\"\n",
    "                                                          , item_id_col=item_id\n",
    "                                                          , target_value_col=target_value\n",
    "                                                          , quantile_col=q\n",
    "                                                          , windows_list=list(windows.window))\n",
    "    metrics_slow.append(metrics_by_moving_slow[q])\n",
    "#     print(\"slow items:\")\n",
    "#     print(metrics_by_moving_slow[q])\n",
    "#     print(f\"mean slow wql_{q} over all backtest windows: {np.mean(metrics_by_moving_slow[q])}\")"
   ]
  },
  {
   "cell_type": "code",
   "execution_count": 217,
   "metadata": {},
   "outputs": [
    {
     "data": {
      "text/html": [
       "<div>\n",
       "<style scoped>\n",
       "    .dataframe tbody tr th:only-of-type {\n",
       "        vertical-align: middle;\n",
       "    }\n",
       "\n",
       "    .dataframe tbody tr th {\n",
       "        vertical-align: top;\n",
       "    }\n",
       "\n",
       "    .dataframe thead th {\n",
       "        text-align: right;\n",
       "    }\n",
       "</style>\n",
       "<table border=\"1\" class=\"dataframe\">\n",
       "  <thead>\n",
       "    <tr style=\"text-align: right;\">\n",
       "      <th></th>\n",
       "      <th>p50</th>\n",
       "      <th>p65</th>\n",
       "      <th>p90</th>\n",
       "    </tr>\n",
       "  </thead>\n",
       "  <tbody>\n",
       "    <tr>\n",
       "      <th>0</th>\n",
       "      <td>0.83502</td>\n",
       "      <td>0.82865</td>\n",
       "      <td>0.80960</td>\n",
       "    </tr>\n",
       "    <tr>\n",
       "      <th>1</th>\n",
       "      <td>0.83865</td>\n",
       "      <td>0.83202</td>\n",
       "      <td>0.81312</td>\n",
       "    </tr>\n",
       "    <tr>\n",
       "      <th>2</th>\n",
       "      <td>0.82868</td>\n",
       "      <td>0.82151</td>\n",
       "      <td>0.80112</td>\n",
       "    </tr>\n",
       "    <tr>\n",
       "      <th>3</th>\n",
       "      <td>0.79674</td>\n",
       "      <td>0.78911</td>\n",
       "      <td>0.76951</td>\n",
       "    </tr>\n",
       "    <tr>\n",
       "      <th>4</th>\n",
       "      <td>0.82278</td>\n",
       "      <td>0.81369</td>\n",
       "      <td>0.78808</td>\n",
       "    </tr>\n",
       "    <tr>\n",
       "      <th>mean</th>\n",
       "      <td>0.82438</td>\n",
       "      <td>0.81700</td>\n",
       "      <td>0.79629</td>\n",
       "    </tr>\n",
       "  </tbody>\n",
       "</table>\n",
       "</div>"
      ],
      "text/plain": [
       "         p50     p65     p90\n",
       "0    0.83502 0.82865 0.80960\n",
       "1    0.83865 0.83202 0.81312\n",
       "2    0.82868 0.82151 0.80112\n",
       "3    0.79674 0.78911 0.76951\n",
       "4    0.82278 0.81369 0.78808\n",
       "mean 0.82438 0.81700 0.79629"
      ]
     },
     "execution_count": 217,
     "metadata": {},
     "output_type": "execute_result"
    }
   ],
   "source": [
    "\n",
    "# assemble metrics fast with rows=windows; columns = quantiles\n",
    "\n",
    "metrics_fast = pd.DataFrame(metrics_fast).T\n",
    "metrics_fast.columns = quantile_cols\n",
    "metrics_fast.loc['mean'] = metrics_fast.mean()\n",
    "metrics_fast\n"
   ]
  },
  {
   "cell_type": "code",
   "execution_count": 214,
   "metadata": {},
   "outputs": [
    {
     "data": {
      "text/html": [
       "<div>\n",
       "<style scoped>\n",
       "    .dataframe tbody tr th:only-of-type {\n",
       "        vertical-align: middle;\n",
       "    }\n",
       "\n",
       "    .dataframe tbody tr th {\n",
       "        vertical-align: top;\n",
       "    }\n",
       "\n",
       "    .dataframe thead th {\n",
       "        text-align: right;\n",
       "    }\n",
       "</style>\n",
       "<table border=\"1\" class=\"dataframe\">\n",
       "  <thead>\n",
       "    <tr style=\"text-align: right;\">\n",
       "      <th></th>\n",
       "      <th>p50</th>\n",
       "      <th>p65</th>\n",
       "      <th>p90</th>\n",
       "    </tr>\n",
       "  </thead>\n",
       "  <tbody>\n",
       "    <tr>\n",
       "      <th>0</th>\n",
       "      <td>0.83007</td>\n",
       "      <td>0.82240</td>\n",
       "      <td>0.79959</td>\n",
       "    </tr>\n",
       "    <tr>\n",
       "      <th>1</th>\n",
       "      <td>0.85342</td>\n",
       "      <td>0.84651</td>\n",
       "      <td>0.82666</td>\n",
       "    </tr>\n",
       "    <tr>\n",
       "      <th>2</th>\n",
       "      <td>0.78829</td>\n",
       "      <td>0.77553</td>\n",
       "      <td>0.74135</td>\n",
       "    </tr>\n",
       "    <tr>\n",
       "      <th>3</th>\n",
       "      <td>0.72396</td>\n",
       "      <td>0.70359</td>\n",
       "      <td>0.65422</td>\n",
       "    </tr>\n",
       "    <tr>\n",
       "      <th>4</th>\n",
       "      <td>0.80254</td>\n",
       "      <td>0.79026</td>\n",
       "      <td>0.75494</td>\n",
       "    </tr>\n",
       "    <tr>\n",
       "      <th>mean</th>\n",
       "      <td>0.79966</td>\n",
       "      <td>0.78766</td>\n",
       "      <td>0.75535</td>\n",
       "    </tr>\n",
       "  </tbody>\n",
       "</table>\n",
       "</div>"
      ],
      "text/plain": [
       "         p50     p65     p90\n",
       "0    0.83007 0.82240 0.79959\n",
       "1    0.85342 0.84651 0.82666\n",
       "2    0.78829 0.77553 0.74135\n",
       "3    0.72396 0.70359 0.65422\n",
       "4    0.80254 0.79026 0.75494\n",
       "mean 0.79966 0.78766 0.75535"
      ]
     },
     "execution_count": 214,
     "metadata": {},
     "output_type": "execute_result"
    }
   ],
   "source": [
    "\n",
    "# assemble metrics slow with rows=windows; columns = quantiles\n",
    "\n",
    "metrics_slow = pd.DataFrame(metrics_slow).T\n",
    "metrics_slow.columns = quantile_cols\n",
    "metrics_slow.loc['mean'] = metrics_slow.mean()\n",
    "metrics_slow"
   ]
  },
  {
   "cell_type": "markdown",
   "metadata": {},
   "source": [
    "### Shortcut to above, using just the accuracy file\n",
    "\n",
    "Now that you've seen how custom metrics could be calculated item-level, now see how you can look up metrics quickly from the accuracy file."
   ]
  },
  {
   "cell_type": "code",
   "execution_count": null,
   "metadata": {},
   "outputs": [],
   "source": [
    "\n",
    "###  Compare to \"fast items\" accuracy directly from backtests accuracy file\n",
    "\n"
   ]
  },
  {
   "cell_type": "code",
   "execution_count": null,
   "metadata": {},
   "outputs": [],
   "source": []
  },
  {
   "cell_type": "code",
   "execution_count": null,
   "metadata": {},
   "outputs": [],
   "source": []
  },
  {
   "cell_type": "markdown",
   "metadata": {},
   "source": [
    "### Visualizations of Backtest Windows\n",
    "\n",
    "What you see below is 1 chart per item.  <br>\n",
    "- Y-axis is Actuals and color-coded Forecasts at each quantile.<br>  \n",
    "- X-axis is time, starting from the first Backtest Window and ending with the last Backtest Window.<br>\n",
    "<br>"
   ]
  },
  {
   "cell_type": "code",
   "execution_count": 246,
   "metadata": {},
   "outputs": [
    {
     "name": "stdout",
     "output_type": "stream",
     "text": [
      "2014-12-27 01:00:00\n",
      "2014-12-31 01:00:00\n"
     ]
    },
    {
     "data": {
      "text/plain": [
       "[Timestamp('2014-12-27 01:00:00', freq='D'),\n",
       " Timestamp('2014-12-28 01:00:00', freq='D'),\n",
       " Timestamp('2014-12-29 01:00:00', freq='D'),\n",
       " Timestamp('2014-12-30 01:00:00', freq='D'),\n",
       " Timestamp('2014-12-31 01:00:00', freq='D')]"
      ]
     },
     "execution_count": 246,
     "metadata": {},
     "output_type": "execute_result"
    }
   ],
   "source": [
    "\n",
    "# get an x-range of dates of your data\n",
    "\n",
    "print(df_eligible.backtestwindow_start_time.min())\n",
    "print(df_eligible.backtestwindow_start_time.max())\n",
    "\n",
    "x = pd.date_range(start=df_eligible.backtestwindow_start_time.min()\n",
    "                    , end=df_eligible.backtestwindow_start_time.max(), freq='D')\n",
    "x = list(x)\n",
    "x"
   ]
  },
  {
   "cell_type": "code",
   "execution_count": 248,
   "metadata": {},
   "outputs": [
    {
     "data": {
      "image/png": "[encoded data removed]",
      "text/plain": [
       "<Figure size 1080x1080 with 3 Axes>"
      ]
     },
     "metadata": {
      "needs_background": "light"
     },
     "output_type": "display_data"
    }
   ],
   "source": [
    "# Visualize items\n",
    "\n",
    "random_items = df_eligible.item_id.value_counts(dropna=False).index.tolist()\n",
    "random_items = random.sample(random_items, 3)\n",
    "\n",
    "\n",
    "np.warnings.filterwarnings('ignore')  #matplotlib in sagemaker kernel is not up to date\n",
    "fig, axs = plt.subplots(len(random_items), 1, figsize=(15, 15), sharex=True)\n",
    "axx = axs.ravel()\n",
    "\n",
    "# gather data for plotting\n",
    "temp = df_eligible[[item_id, timestamp, target_value, 'p50', 'p65', 'p90']].copy()\n",
    "# rename \"target_value\" to \"actual_value\" for clearer viz\n",
    "temp.rename(columns={'target_value':'actual_value'}, inplace=True)\n",
    "temp = temp.groupby([timestamp, item_id]).sum()\n",
    "temp.reset_index(inplace=True)\n",
    "temp.set_index(timestamp, inplace=True)\n",
    "\n",
    "\n",
    "for i in range(len(random_items)):\n",
    "    \n",
    "    item = random_items[i]\n",
    "    zoomed = temp.loc[(temp[item_id]==item), :]\n",
    "    \n",
    "    # zoomed-in plots by specific time range if you want\n",
    "#     zoomed = zoomed['2019-09-05':'2019-09-06']\n",
    "\n",
    "    zoomed[['p90']].plot(ax=axx[i], color='deepskyblue')\n",
    "    zoomed[['actual_value']].plot(ax=axx[i], color='k')\n",
    "    zoomed[['p65']].plot(ax=axx[i], color='orange')\n",
    "    zoomed[['p50']].plot(ax=axx[i], color='mediumpurple')\n",
    "            \n",
    "    axx[i].set_title(f\"Item_id={item}\")\n",
    "    axx[i].set_xlabel(\"\")    #date\n",
    "    axx[i].set_ylabel(\"Hourly demand\")   \n",
    "    axx[i].grid(which='minor', axis='x')\n",
    "    axx[i].grid(axis='y')\n",
    "    axx[i].set_xticklabels([str(dt.date())[0:11] for dt in x[0:-1]])\n",
    "    axx[i].grid(False)\n",
    "\n"
   ]
  },
  {
   "cell_type": "code",
   "execution_count": null,
   "metadata": {},
   "outputs": [],
   "source": []
  },
  {
   "cell_type": "code",
   "execution_count": null,
   "metadata": {},
   "outputs": [],
   "source": []
  },
  {
   "cell_type": "code",
   "execution_count": null,
   "metadata": {},
   "outputs": [],
   "source": []
  }
 ],
 "metadata": {
  "kernelspec": {
   "display_name": "Python 3",
   "language": "python",
   "name": "python3"
  },
  "language_info": {
   "codemirror_mode": {
    "name": "ipython",
    "version": 3
   },
   "file_extension": ".py",
   "mimetype": "text/x-python",
   "name": "python",
   "nbconvert_exporter": "python",
   "pygments_lexer": "ipython3",
   "version": "3.6.10"
  }
 },
 "nbformat": 4,
 "nbformat_minor": 4
}
